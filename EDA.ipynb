{
  "cells": [
    {
      "cell_type": "code",
      "execution_count": null,
      "metadata": {
        "id": "1lQCsZMVRLAu",
        "outputId": "fb5799ae-8587-4758-b192-132bcdfaea58"
      },
      "outputs": [
        {
          "ename": "ModuleNotFoundError",
          "evalue": "No module named 'lightgbm'",
          "output_type": "error",
          "traceback": [
            "\u001b[1;31m---------------------------------------------------------------------------\u001b[0m",
            "\u001b[1;31mModuleNotFoundError\u001b[0m                       Traceback (most recent call last)",
            "\u001b[1;32m<ipython-input-1-54730f3d6035>\u001b[0m in \u001b[0;36m<module>\u001b[1;34m\u001b[0m\n\u001b[0;32m      8\u001b[0m \u001b[1;32mfrom\u001b[0m \u001b[0msklearn\u001b[0m\u001b[1;33m.\u001b[0m\u001b[0mmodel_selection\u001b[0m \u001b[1;32mimport\u001b[0m \u001b[0mtrain_test_split\u001b[0m\u001b[1;33m\u001b[0m\u001b[1;33m\u001b[0m\u001b[0m\n\u001b[0;32m      9\u001b[0m \u001b[1;32mfrom\u001b[0m \u001b[0msklearn\u001b[0m\u001b[1;33m.\u001b[0m\u001b[0mmetrics\u001b[0m \u001b[1;32mimport\u001b[0m \u001b[0mconfusion_matrix\u001b[0m\u001b[1;33m,\u001b[0m \u001b[0mroc_auc_score\u001b[0m\u001b[1;33m,\u001b[0m \u001b[0mroc_curve\u001b[0m\u001b[1;33m,\u001b[0m \u001b[0mclassification_report\u001b[0m\u001b[1;33m,\u001b[0m \u001b[0mf1_score\u001b[0m\u001b[1;33m\u001b[0m\u001b[1;33m\u001b[0m\u001b[0m\n\u001b[1;32m---> 10\u001b[1;33m \u001b[1;32mfrom\u001b[0m \u001b[0mlightgbm\u001b[0m \u001b[1;32mimport\u001b[0m \u001b[0mLGBMClassifier\u001b[0m\u001b[1;33m\u001b[0m\u001b[1;33m\u001b[0m\u001b[0m\n\u001b[0m\u001b[0;32m     11\u001b[0m \u001b[1;33m\u001b[0m\u001b[0m\n\u001b[0;32m     12\u001b[0m \u001b[1;32mfrom\u001b[0m \u001b[0mimblearn\u001b[0m\u001b[1;33m.\u001b[0m\u001b[0mover_sampling\u001b[0m \u001b[1;32mimport\u001b[0m \u001b[0mRandomOverSampler\u001b[0m\u001b[1;33m,\u001b[0m\u001b[0mSMOTE\u001b[0m\u001b[1;33m\u001b[0m\u001b[1;33m\u001b[0m\u001b[0m\n",
            "\u001b[1;31mModuleNotFoundError\u001b[0m: No module named 'lightgbm'"
          ]
        }
      ],
      "source": [
        "#%matplotlib inline\n",
        "import pandas as pd\n",
        "import numpy as np\n",
        "import matplotlib.pyplot as plt\n",
        "import seaborn as sns\n",
        "\n",
        "from sklearn.ensemble import BaggingClassifier, RandomForestClassifier, AdaBoostClassifier\n",
        "from sklearn.model_selection import train_test_split\n",
        "from sklearn.metrics import confusion_matrix, roc_auc_score, roc_curve, classification_report, f1_score\n",
        "from lightgbm import LGBMClassifier\n",
        "\n",
        "from imblearn.over_sampling import RandomOverSampler,SMOTE\n",
        "from imblearn.under_sampling import RandomUnderSampler\n",
        "from imblearn.metrics import classification_report_imbalanced\n",
        "\n",
        "import itertools\n",
        "import scipy.stats as ss"
      ]
    },
    {
      "cell_type": "code",
      "execution_count": null,
      "metadata": {
        "id": "LBAEAe8JRLAz"
      },
      "outputs": [],
      "source": [
        "data = pd.read_csv('C:/Jiwon/data/tic2000.csv')"
      ]
    },
    {
      "cell_type": "code",
      "execution_count": null,
      "metadata": {
        "id": "zBdwP1OxRLA0",
        "outputId": "a32b7807-6349-4c07-b0e6-4e2dfd08bf71"
      },
      "outputs": [
        {
          "data": {
            "text/html": [
              "<div>\n",
              "<style scoped>\n",
              "    .dataframe tbody tr th:only-of-type {\n",
              "        vertical-align: middle;\n",
              "    }\n",
              "\n",
              "    .dataframe tbody tr th {\n",
              "        vertical-align: top;\n",
              "    }\n",
              "\n",
              "    .dataframe thead th {\n",
              "        text-align: right;\n",
              "    }\n",
              "</style>\n",
              "<table border=\"1\" class=\"dataframe\">\n",
              "  <thead>\n",
              "    <tr style=\"text-align: right;\">\n",
              "      <th></th>\n",
              "      <th>MOSTYPE</th>\n",
              "      <th>MAANTHUI</th>\n",
              "      <th>MGEMOMV</th>\n",
              "      <th>MGEMLEEF</th>\n",
              "      <th>MOSHOOFD</th>\n",
              "      <th>MGODRK</th>\n",
              "      <th>MGODPR</th>\n",
              "      <th>MGODOV</th>\n",
              "      <th>MGODGE</th>\n",
              "      <th>MRELGE</th>\n",
              "      <th>...</th>\n",
              "      <th>APERSONG</th>\n",
              "      <th>AGEZONG</th>\n",
              "      <th>AWAOREG</th>\n",
              "      <th>ABRAND</th>\n",
              "      <th>AZEILPL</th>\n",
              "      <th>APLEZIER</th>\n",
              "      <th>AFIETS</th>\n",
              "      <th>AINBOED</th>\n",
              "      <th>ABYSTAND</th>\n",
              "      <th>CARAVAN</th>\n",
              "    </tr>\n",
              "  </thead>\n",
              "  <tbody>\n",
              "    <tr>\n",
              "      <th>0</th>\n",
              "      <td>33</td>\n",
              "      <td>1</td>\n",
              "      <td>3</td>\n",
              "      <td>2</td>\n",
              "      <td>8</td>\n",
              "      <td>0</td>\n",
              "      <td>5</td>\n",
              "      <td>1</td>\n",
              "      <td>3</td>\n",
              "      <td>7</td>\n",
              "      <td>...</td>\n",
              "      <td>0</td>\n",
              "      <td>0</td>\n",
              "      <td>0</td>\n",
              "      <td>1</td>\n",
              "      <td>0</td>\n",
              "      <td>0</td>\n",
              "      <td>0</td>\n",
              "      <td>0</td>\n",
              "      <td>0</td>\n",
              "      <td>0</td>\n",
              "    </tr>\n",
              "    <tr>\n",
              "      <th>1</th>\n",
              "      <td>37</td>\n",
              "      <td>1</td>\n",
              "      <td>2</td>\n",
              "      <td>2</td>\n",
              "      <td>8</td>\n",
              "      <td>1</td>\n",
              "      <td>4</td>\n",
              "      <td>1</td>\n",
              "      <td>4</td>\n",
              "      <td>6</td>\n",
              "      <td>...</td>\n",
              "      <td>0</td>\n",
              "      <td>0</td>\n",
              "      <td>0</td>\n",
              "      <td>1</td>\n",
              "      <td>0</td>\n",
              "      <td>0</td>\n",
              "      <td>0</td>\n",
              "      <td>0</td>\n",
              "      <td>0</td>\n",
              "      <td>0</td>\n",
              "    </tr>\n",
              "    <tr>\n",
              "      <th>2</th>\n",
              "      <td>37</td>\n",
              "      <td>1</td>\n",
              "      <td>2</td>\n",
              "      <td>2</td>\n",
              "      <td>8</td>\n",
              "      <td>0</td>\n",
              "      <td>4</td>\n",
              "      <td>2</td>\n",
              "      <td>4</td>\n",
              "      <td>3</td>\n",
              "      <td>...</td>\n",
              "      <td>0</td>\n",
              "      <td>0</td>\n",
              "      <td>0</td>\n",
              "      <td>1</td>\n",
              "      <td>0</td>\n",
              "      <td>0</td>\n",
              "      <td>0</td>\n",
              "      <td>0</td>\n",
              "      <td>0</td>\n",
              "      <td>0</td>\n",
              "    </tr>\n",
              "    <tr>\n",
              "      <th>3</th>\n",
              "      <td>9</td>\n",
              "      <td>1</td>\n",
              "      <td>3</td>\n",
              "      <td>3</td>\n",
              "      <td>3</td>\n",
              "      <td>2</td>\n",
              "      <td>3</td>\n",
              "      <td>2</td>\n",
              "      <td>4</td>\n",
              "      <td>5</td>\n",
              "      <td>...</td>\n",
              "      <td>0</td>\n",
              "      <td>0</td>\n",
              "      <td>0</td>\n",
              "      <td>1</td>\n",
              "      <td>0</td>\n",
              "      <td>0</td>\n",
              "      <td>0</td>\n",
              "      <td>0</td>\n",
              "      <td>0</td>\n",
              "      <td>0</td>\n",
              "    </tr>\n",
              "    <tr>\n",
              "      <th>4</th>\n",
              "      <td>40</td>\n",
              "      <td>1</td>\n",
              "      <td>4</td>\n",
              "      <td>2</td>\n",
              "      <td>10</td>\n",
              "      <td>1</td>\n",
              "      <td>4</td>\n",
              "      <td>1</td>\n",
              "      <td>4</td>\n",
              "      <td>7</td>\n",
              "      <td>...</td>\n",
              "      <td>0</td>\n",
              "      <td>0</td>\n",
              "      <td>0</td>\n",
              "      <td>1</td>\n",
              "      <td>0</td>\n",
              "      <td>0</td>\n",
              "      <td>0</td>\n",
              "      <td>0</td>\n",
              "      <td>0</td>\n",
              "      <td>0</td>\n",
              "    </tr>\n",
              "    <tr>\n",
              "      <th>...</th>\n",
              "      <td>...</td>\n",
              "      <td>...</td>\n",
              "      <td>...</td>\n",
              "      <td>...</td>\n",
              "      <td>...</td>\n",
              "      <td>...</td>\n",
              "      <td>...</td>\n",
              "      <td>...</td>\n",
              "      <td>...</td>\n",
              "      <td>...</td>\n",
              "      <td>...</td>\n",
              "      <td>...</td>\n",
              "      <td>...</td>\n",
              "      <td>...</td>\n",
              "      <td>...</td>\n",
              "      <td>...</td>\n",
              "      <td>...</td>\n",
              "      <td>...</td>\n",
              "      <td>...</td>\n",
              "      <td>...</td>\n",
              "      <td>...</td>\n",
              "    </tr>\n",
              "    <tr>\n",
              "      <th>9817</th>\n",
              "      <td>33</td>\n",
              "      <td>1</td>\n",
              "      <td>2</td>\n",
              "      <td>4</td>\n",
              "      <td>8</td>\n",
              "      <td>0</td>\n",
              "      <td>7</td>\n",
              "      <td>2</td>\n",
              "      <td>0</td>\n",
              "      <td>5</td>\n",
              "      <td>...</td>\n",
              "      <td>0</td>\n",
              "      <td>0</td>\n",
              "      <td>0</td>\n",
              "      <td>1</td>\n",
              "      <td>0</td>\n",
              "      <td>0</td>\n",
              "      <td>0</td>\n",
              "      <td>0</td>\n",
              "      <td>0</td>\n",
              "      <td>0</td>\n",
              "    </tr>\n",
              "    <tr>\n",
              "      <th>9818</th>\n",
              "      <td>24</td>\n",
              "      <td>1</td>\n",
              "      <td>2</td>\n",
              "      <td>3</td>\n",
              "      <td>5</td>\n",
              "      <td>1</td>\n",
              "      <td>5</td>\n",
              "      <td>1</td>\n",
              "      <td>3</td>\n",
              "      <td>4</td>\n",
              "      <td>...</td>\n",
              "      <td>0</td>\n",
              "      <td>0</td>\n",
              "      <td>0</td>\n",
              "      <td>1</td>\n",
              "      <td>0</td>\n",
              "      <td>0</td>\n",
              "      <td>0</td>\n",
              "      <td>0</td>\n",
              "      <td>0</td>\n",
              "      <td>1</td>\n",
              "    </tr>\n",
              "    <tr>\n",
              "      <th>9819</th>\n",
              "      <td>36</td>\n",
              "      <td>1</td>\n",
              "      <td>2</td>\n",
              "      <td>3</td>\n",
              "      <td>8</td>\n",
              "      <td>1</td>\n",
              "      <td>5</td>\n",
              "      <td>1</td>\n",
              "      <td>3</td>\n",
              "      <td>7</td>\n",
              "      <td>...</td>\n",
              "      <td>0</td>\n",
              "      <td>0</td>\n",
              "      <td>0</td>\n",
              "      <td>1</td>\n",
              "      <td>0</td>\n",
              "      <td>0</td>\n",
              "      <td>0</td>\n",
              "      <td>1</td>\n",
              "      <td>0</td>\n",
              "      <td>0</td>\n",
              "    </tr>\n",
              "    <tr>\n",
              "      <th>9820</th>\n",
              "      <td>33</td>\n",
              "      <td>1</td>\n",
              "      <td>3</td>\n",
              "      <td>3</td>\n",
              "      <td>8</td>\n",
              "      <td>1</td>\n",
              "      <td>4</td>\n",
              "      <td>2</td>\n",
              "      <td>3</td>\n",
              "      <td>7</td>\n",
              "      <td>...</td>\n",
              "      <td>0</td>\n",
              "      <td>0</td>\n",
              "      <td>0</td>\n",
              "      <td>0</td>\n",
              "      <td>0</td>\n",
              "      <td>0</td>\n",
              "      <td>0</td>\n",
              "      <td>0</td>\n",
              "      <td>0</td>\n",
              "      <td>0</td>\n",
              "    </tr>\n",
              "    <tr>\n",
              "      <th>9821</th>\n",
              "      <td>8</td>\n",
              "      <td>1</td>\n",
              "      <td>2</td>\n",
              "      <td>3</td>\n",
              "      <td>2</td>\n",
              "      <td>4</td>\n",
              "      <td>3</td>\n",
              "      <td>0</td>\n",
              "      <td>3</td>\n",
              "      <td>5</td>\n",
              "      <td>...</td>\n",
              "      <td>0</td>\n",
              "      <td>0</td>\n",
              "      <td>0</td>\n",
              "      <td>1</td>\n",
              "      <td>0</td>\n",
              "      <td>0</td>\n",
              "      <td>0</td>\n",
              "      <td>0</td>\n",
              "      <td>0</td>\n",
              "      <td>0</td>\n",
              "    </tr>\n",
              "  </tbody>\n",
              "</table>\n",
              "<p>9822 rows × 86 columns</p>\n",
              "</div>"
            ],
            "text/plain": [
              "      MOSTYPE  MAANTHUI  MGEMOMV  MGEMLEEF  MOSHOOFD  MGODRK  MGODPR  MGODOV  \\\n",
              "0          33         1        3         2         8       0       5       1   \n",
              "1          37         1        2         2         8       1       4       1   \n",
              "2          37         1        2         2         8       0       4       2   \n",
              "3           9         1        3         3         3       2       3       2   \n",
              "4          40         1        4         2        10       1       4       1   \n",
              "...       ...       ...      ...       ...       ...     ...     ...     ...   \n",
              "9817       33         1        2         4         8       0       7       2   \n",
              "9818       24         1        2         3         5       1       5       1   \n",
              "9819       36         1        2         3         8       1       5       1   \n",
              "9820       33         1        3         3         8       1       4       2   \n",
              "9821        8         1        2         3         2       4       3       0   \n",
              "\n",
              "      MGODGE  MRELGE  ...  APERSONG  AGEZONG  AWAOREG  ABRAND  AZEILPL  \\\n",
              "0          3       7  ...         0        0        0       1        0   \n",
              "1          4       6  ...         0        0        0       1        0   \n",
              "2          4       3  ...         0        0        0       1        0   \n",
              "3          4       5  ...         0        0        0       1        0   \n",
              "4          4       7  ...         0        0        0       1        0   \n",
              "...      ...     ...  ...       ...      ...      ...     ...      ...   \n",
              "9817       0       5  ...         0        0        0       1        0   \n",
              "9818       3       4  ...         0        0        0       1        0   \n",
              "9819       3       7  ...         0        0        0       1        0   \n",
              "9820       3       7  ...         0        0        0       0        0   \n",
              "9821       3       5  ...         0        0        0       1        0   \n",
              "\n",
              "      APLEZIER  AFIETS  AINBOED  ABYSTAND  CARAVAN  \n",
              "0            0       0        0         0        0  \n",
              "1            0       0        0         0        0  \n",
              "2            0       0        0         0        0  \n",
              "3            0       0        0         0        0  \n",
              "4            0       0        0         0        0  \n",
              "...        ...     ...      ...       ...      ...  \n",
              "9817         0       0        0         0        0  \n",
              "9818         0       0        0         0        1  \n",
              "9819         0       0        1         0        0  \n",
              "9820         0       0        0         0        0  \n",
              "9821         0       0        0         0        0  \n",
              "\n",
              "[9822 rows x 86 columns]"
            ]
          },
          "execution_count": 8,
          "metadata": {},
          "output_type": "execute_result"
        }
      ],
      "source": [
        "data"
      ]
    },
    {
      "cell_type": "markdown",
      "metadata": {
        "id": "FEbT17FhRLA2"
      },
      "source": [
        "* EDA"
      ]
    },
    {
      "cell_type": "code",
      "execution_count": null,
      "metadata": {
        "scrolled": false,
        "id": "lXJeSqgXRLBF",
        "outputId": "9ab9f1e2-af42-4695-e76b-0dbb9737a681"
      },
      "outputs": [
        {
          "name": "stdout",
          "output_type": "stream",
          "text": [
            "<class 'pandas.core.frame.DataFrame'>\n",
            "RangeIndex: 9822 entries, 0 to 9821\n",
            "Data columns (total 86 columns):\n",
            " #   Column    Non-Null Count  Dtype\n",
            "---  ------    --------------  -----\n",
            " 0   MOSTYPE   9822 non-null   int64\n",
            " 1   MAANTHUI  9822 non-null   int64\n",
            " 2   MGEMOMV   9822 non-null   int64\n",
            " 3   MGEMLEEF  9822 non-null   int64\n",
            " 4   MOSHOOFD  9822 non-null   int64\n",
            " 5   MGODRK    9822 non-null   int64\n",
            " 6   MGODPR    9822 non-null   int64\n",
            " 7   MGODOV    9822 non-null   int64\n",
            " 8   MGODGE    9822 non-null   int64\n",
            " 9   MRELGE    9822 non-null   int64\n",
            " 10  MRELSA    9822 non-null   int64\n",
            " 11  MRELOV    9822 non-null   int64\n",
            " 12  MFALLEEN  9822 non-null   int64\n",
            " 13  MFGEKIND  9822 non-null   int64\n",
            " 14  MFWEKIND  9822 non-null   int64\n",
            " 15  MOPLHOOG  9822 non-null   int64\n",
            " 16  MOPLMIDD  9822 non-null   int64\n",
            " 17  MOPLLAAG  9822 non-null   int64\n",
            " 18  MBERHOOG  9822 non-null   int64\n",
            " 19  MBERZELF  9822 non-null   int64\n",
            " 20  MBERBOER  9822 non-null   int64\n",
            " 21  MBERMIDD  9822 non-null   int64\n",
            " 22  MBERARBG  9822 non-null   int64\n",
            " 23  MBERARBO  9822 non-null   int64\n",
            " 24  MSKA      9822 non-null   int64\n",
            " 25  MSKB1     9822 non-null   int64\n",
            " 26  MSKB2     9822 non-null   int64\n",
            " 27  MSKC      9822 non-null   int64\n",
            " 28  MSKD      9822 non-null   int64\n",
            " 29  MHHUUR    9822 non-null   int64\n",
            " 30  MHKOOP    9822 non-null   int64\n",
            " 31  MAUT1     9822 non-null   int64\n",
            " 32  MAUT2     9822 non-null   int64\n",
            " 33  MAUT0     9822 non-null   int64\n",
            " 34  MZFONDS   9822 non-null   int64\n",
            " 35  MZPART    9822 non-null   int64\n",
            " 36  MINKM30   9822 non-null   int64\n",
            " 37  MINK3045  9822 non-null   int64\n",
            " 38  MINK4575  9822 non-null   int64\n",
            " 39  MINK7512  9822 non-null   int64\n",
            " 40  MINK123M  9822 non-null   int64\n",
            " 41  MINKGEM   9822 non-null   int64\n",
            " 42  MKOOPKLA  9822 non-null   int64\n",
            " 43  PWAPART   9822 non-null   int64\n",
            " 44  PWABEDR   9822 non-null   int64\n",
            " 45  PWALAND   9822 non-null   int64\n",
            " 46  PPERSAUT  9822 non-null   int64\n",
            " 47  PBESAUT   9822 non-null   int64\n",
            " 48  PMOTSCO   9822 non-null   int64\n",
            " 49  PVRAAUT   9822 non-null   int64\n",
            " 50  PAANHANG  9822 non-null   int64\n",
            " 51  PTRACTOR  9822 non-null   int64\n",
            " 52  PWERKT    9822 non-null   int64\n",
            " 53  PBROM     9822 non-null   int64\n",
            " 54  PLEVEN    9822 non-null   int64\n",
            " 55  PPERSONG  9822 non-null   int64\n",
            " 56  PGEZONG   9822 non-null   int64\n",
            " 57  PWAOREG   9822 non-null   int64\n",
            " 58  PBRAND    9822 non-null   int64\n",
            " 59  PZEILPL   9822 non-null   int64\n",
            " 60  PPLEZIER  9822 non-null   int64\n",
            " 61  PFIETS    9822 non-null   int64\n",
            " 62  PINBOED   9822 non-null   int64\n",
            " 63  PBYSTAND  9822 non-null   int64\n",
            " 64  AWAPART   9822 non-null   int64\n",
            " 65  AWABEDR   9822 non-null   int64\n",
            " 66  AWALAND   9822 non-null   int64\n",
            " 67  APERSAUT  9822 non-null   int64\n",
            " 68  ABESAUT   9822 non-null   int64\n",
            " 69  AMOTSCO   9822 non-null   int64\n",
            " 70  AVRAAUT   9822 non-null   int64\n",
            " 71  AAANHANG  9822 non-null   int64\n",
            " 72  ATRACTOR  9822 non-null   int64\n",
            " 73  AWERKT    9822 non-null   int64\n",
            " 74  ABROM     9822 non-null   int64\n",
            " 75  ALEVEN    9822 non-null   int64\n",
            " 76  APERSONG  9822 non-null   int64\n",
            " 77  AGEZONG   9822 non-null   int64\n",
            " 78  AWAOREG   9822 non-null   int64\n",
            " 79  ABRAND    9822 non-null   int64\n",
            " 80  AZEILPL   9822 non-null   int64\n",
            " 81  APLEZIER  9822 non-null   int64\n",
            " 82  AFIETS    9822 non-null   int64\n",
            " 83  AINBOED   9822 non-null   int64\n",
            " 84  ABYSTAND  9822 non-null   int64\n",
            " 85  CARAVAN   9822 non-null   int64\n",
            "dtypes: int64(86)\n",
            "memory usage: 6.4 MB\n"
          ]
        }
      ],
      "source": [
        "data.info()"
      ]
    },
    {
      "cell_type": "code",
      "execution_count": null,
      "metadata": {
        "id": "RIUOWrtURLBG",
        "outputId": "a126ec38-a088-40c6-c21a-ac9e4ef142fc"
      },
      "outputs": [
        {
          "data": {
            "text/plain": [
              "0    9236\n",
              "1     586\n",
              "Name: CARAVAN, dtype: int64"
            ]
          },
          "execution_count": 10,
          "metadata": {},
          "output_type": "execute_result"
        }
      ],
      "source": [
        "data.CARAVAN.value_counts()"
      ]
    },
    {
      "cell_type": "code",
      "execution_count": null,
      "metadata": {
        "id": "MtfJwqQVRLBI"
      },
      "outputs": [],
      "source": [
        "data44 = data.iloc[:,43:64]"
      ]
    },
    {
      "cell_type": "code",
      "execution_count": null,
      "metadata": {
        "id": "olp2b-WgRLBK"
      },
      "outputs": [],
      "source": [
        "data45 = pd.concat([data44,data.iloc[:,85]],axis = 1)"
      ]
    },
    {
      "cell_type": "code",
      "execution_count": null,
      "metadata": {
        "scrolled": true,
        "id": "ko_tGd2-RLBM",
        "outputId": "2e669267-e1c5-4605-b267-e06c8d35b5a9"
      },
      "outputs": [
        {
          "data": {
            "text/html": [
              "<div>\n",
              "<style scoped>\n",
              "    .dataframe tbody tr th:only-of-type {\n",
              "        vertical-align: middle;\n",
              "    }\n",
              "\n",
              "    .dataframe tbody tr th {\n",
              "        vertical-align: top;\n",
              "    }\n",
              "\n",
              "    .dataframe thead th {\n",
              "        text-align: right;\n",
              "    }\n",
              "</style>\n",
              "<table border=\"1\" class=\"dataframe\">\n",
              "  <thead>\n",
              "    <tr style=\"text-align: right;\">\n",
              "      <th></th>\n",
              "      <th>PWAPART</th>\n",
              "      <th>PWABEDR</th>\n",
              "      <th>PWALAND</th>\n",
              "      <th>PPERSAUT</th>\n",
              "      <th>PBESAUT</th>\n",
              "      <th>PMOTSCO</th>\n",
              "      <th>PVRAAUT</th>\n",
              "      <th>PAANHANG</th>\n",
              "      <th>PTRACTOR</th>\n",
              "      <th>PWERKT</th>\n",
              "      <th>...</th>\n",
              "      <th>PPERSONG</th>\n",
              "      <th>PGEZONG</th>\n",
              "      <th>PWAOREG</th>\n",
              "      <th>PBRAND</th>\n",
              "      <th>PZEILPL</th>\n",
              "      <th>PPLEZIER</th>\n",
              "      <th>PFIETS</th>\n",
              "      <th>PINBOED</th>\n",
              "      <th>PBYSTAND</th>\n",
              "      <th>CARAVAN</th>\n",
              "    </tr>\n",
              "  </thead>\n",
              "  <tbody>\n",
              "    <tr>\n",
              "      <th>0</th>\n",
              "      <td>0</td>\n",
              "      <td>0</td>\n",
              "      <td>0</td>\n",
              "      <td>6</td>\n",
              "      <td>0</td>\n",
              "      <td>0</td>\n",
              "      <td>0</td>\n",
              "      <td>0</td>\n",
              "      <td>0</td>\n",
              "      <td>0</td>\n",
              "      <td>...</td>\n",
              "      <td>0</td>\n",
              "      <td>0</td>\n",
              "      <td>0</td>\n",
              "      <td>5</td>\n",
              "      <td>0</td>\n",
              "      <td>0</td>\n",
              "      <td>0</td>\n",
              "      <td>0</td>\n",
              "      <td>0</td>\n",
              "      <td>0</td>\n",
              "    </tr>\n",
              "    <tr>\n",
              "      <th>1</th>\n",
              "      <td>2</td>\n",
              "      <td>0</td>\n",
              "      <td>0</td>\n",
              "      <td>0</td>\n",
              "      <td>0</td>\n",
              "      <td>0</td>\n",
              "      <td>0</td>\n",
              "      <td>0</td>\n",
              "      <td>0</td>\n",
              "      <td>0</td>\n",
              "      <td>...</td>\n",
              "      <td>0</td>\n",
              "      <td>0</td>\n",
              "      <td>0</td>\n",
              "      <td>2</td>\n",
              "      <td>0</td>\n",
              "      <td>0</td>\n",
              "      <td>0</td>\n",
              "      <td>0</td>\n",
              "      <td>0</td>\n",
              "      <td>0</td>\n",
              "    </tr>\n",
              "    <tr>\n",
              "      <th>2</th>\n",
              "      <td>2</td>\n",
              "      <td>0</td>\n",
              "      <td>0</td>\n",
              "      <td>6</td>\n",
              "      <td>0</td>\n",
              "      <td>0</td>\n",
              "      <td>0</td>\n",
              "      <td>0</td>\n",
              "      <td>0</td>\n",
              "      <td>0</td>\n",
              "      <td>...</td>\n",
              "      <td>0</td>\n",
              "      <td>0</td>\n",
              "      <td>0</td>\n",
              "      <td>2</td>\n",
              "      <td>0</td>\n",
              "      <td>0</td>\n",
              "      <td>0</td>\n",
              "      <td>0</td>\n",
              "      <td>0</td>\n",
              "      <td>0</td>\n",
              "    </tr>\n",
              "    <tr>\n",
              "      <th>3</th>\n",
              "      <td>0</td>\n",
              "      <td>0</td>\n",
              "      <td>0</td>\n",
              "      <td>6</td>\n",
              "      <td>0</td>\n",
              "      <td>0</td>\n",
              "      <td>0</td>\n",
              "      <td>0</td>\n",
              "      <td>0</td>\n",
              "      <td>0</td>\n",
              "      <td>...</td>\n",
              "      <td>0</td>\n",
              "      <td>0</td>\n",
              "      <td>0</td>\n",
              "      <td>2</td>\n",
              "      <td>0</td>\n",
              "      <td>0</td>\n",
              "      <td>0</td>\n",
              "      <td>0</td>\n",
              "      <td>0</td>\n",
              "      <td>0</td>\n",
              "    </tr>\n",
              "    <tr>\n",
              "      <th>4</th>\n",
              "      <td>0</td>\n",
              "      <td>0</td>\n",
              "      <td>0</td>\n",
              "      <td>0</td>\n",
              "      <td>0</td>\n",
              "      <td>0</td>\n",
              "      <td>0</td>\n",
              "      <td>0</td>\n",
              "      <td>0</td>\n",
              "      <td>0</td>\n",
              "      <td>...</td>\n",
              "      <td>0</td>\n",
              "      <td>0</td>\n",
              "      <td>0</td>\n",
              "      <td>6</td>\n",
              "      <td>0</td>\n",
              "      <td>0</td>\n",
              "      <td>0</td>\n",
              "      <td>0</td>\n",
              "      <td>0</td>\n",
              "      <td>0</td>\n",
              "    </tr>\n",
              "    <tr>\n",
              "      <th>...</th>\n",
              "      <td>...</td>\n",
              "      <td>...</td>\n",
              "      <td>...</td>\n",
              "      <td>...</td>\n",
              "      <td>...</td>\n",
              "      <td>...</td>\n",
              "      <td>...</td>\n",
              "      <td>...</td>\n",
              "      <td>...</td>\n",
              "      <td>...</td>\n",
              "      <td>...</td>\n",
              "      <td>...</td>\n",
              "      <td>...</td>\n",
              "      <td>...</td>\n",
              "      <td>...</td>\n",
              "      <td>...</td>\n",
              "      <td>...</td>\n",
              "      <td>...</td>\n",
              "      <td>...</td>\n",
              "      <td>...</td>\n",
              "      <td>...</td>\n",
              "    </tr>\n",
              "    <tr>\n",
              "      <th>9817</th>\n",
              "      <td>2</td>\n",
              "      <td>0</td>\n",
              "      <td>0</td>\n",
              "      <td>6</td>\n",
              "      <td>0</td>\n",
              "      <td>0</td>\n",
              "      <td>0</td>\n",
              "      <td>0</td>\n",
              "      <td>0</td>\n",
              "      <td>0</td>\n",
              "      <td>...</td>\n",
              "      <td>0</td>\n",
              "      <td>0</td>\n",
              "      <td>0</td>\n",
              "      <td>3</td>\n",
              "      <td>0</td>\n",
              "      <td>0</td>\n",
              "      <td>0</td>\n",
              "      <td>0</td>\n",
              "      <td>0</td>\n",
              "      <td>0</td>\n",
              "    </tr>\n",
              "    <tr>\n",
              "      <th>9818</th>\n",
              "      <td>0</td>\n",
              "      <td>0</td>\n",
              "      <td>0</td>\n",
              "      <td>6</td>\n",
              "      <td>0</td>\n",
              "      <td>0</td>\n",
              "      <td>0</td>\n",
              "      <td>0</td>\n",
              "      <td>0</td>\n",
              "      <td>0</td>\n",
              "      <td>...</td>\n",
              "      <td>0</td>\n",
              "      <td>0</td>\n",
              "      <td>0</td>\n",
              "      <td>4</td>\n",
              "      <td>0</td>\n",
              "      <td>0</td>\n",
              "      <td>0</td>\n",
              "      <td>0</td>\n",
              "      <td>0</td>\n",
              "      <td>1</td>\n",
              "    </tr>\n",
              "    <tr>\n",
              "      <th>9819</th>\n",
              "      <td>0</td>\n",
              "      <td>0</td>\n",
              "      <td>0</td>\n",
              "      <td>6</td>\n",
              "      <td>0</td>\n",
              "      <td>0</td>\n",
              "      <td>0</td>\n",
              "      <td>0</td>\n",
              "      <td>0</td>\n",
              "      <td>0</td>\n",
              "      <td>...</td>\n",
              "      <td>0</td>\n",
              "      <td>0</td>\n",
              "      <td>0</td>\n",
              "      <td>3</td>\n",
              "      <td>0</td>\n",
              "      <td>0</td>\n",
              "      <td>0</td>\n",
              "      <td>1</td>\n",
              "      <td>0</td>\n",
              "      <td>0</td>\n",
              "    </tr>\n",
              "    <tr>\n",
              "      <th>9820</th>\n",
              "      <td>0</td>\n",
              "      <td>0</td>\n",
              "      <td>0</td>\n",
              "      <td>6</td>\n",
              "      <td>0</td>\n",
              "      <td>0</td>\n",
              "      <td>0</td>\n",
              "      <td>0</td>\n",
              "      <td>0</td>\n",
              "      <td>0</td>\n",
              "      <td>...</td>\n",
              "      <td>0</td>\n",
              "      <td>0</td>\n",
              "      <td>0</td>\n",
              "      <td>0</td>\n",
              "      <td>0</td>\n",
              "      <td>0</td>\n",
              "      <td>0</td>\n",
              "      <td>0</td>\n",
              "      <td>0</td>\n",
              "      <td>0</td>\n",
              "    </tr>\n",
              "    <tr>\n",
              "      <th>9821</th>\n",
              "      <td>2</td>\n",
              "      <td>0</td>\n",
              "      <td>0</td>\n",
              "      <td>0</td>\n",
              "      <td>0</td>\n",
              "      <td>0</td>\n",
              "      <td>0</td>\n",
              "      <td>0</td>\n",
              "      <td>0</td>\n",
              "      <td>0</td>\n",
              "      <td>...</td>\n",
              "      <td>0</td>\n",
              "      <td>0</td>\n",
              "      <td>0</td>\n",
              "      <td>4</td>\n",
              "      <td>0</td>\n",
              "      <td>0</td>\n",
              "      <td>0</td>\n",
              "      <td>0</td>\n",
              "      <td>0</td>\n",
              "      <td>0</td>\n",
              "    </tr>\n",
              "  </tbody>\n",
              "</table>\n",
              "<p>9822 rows × 22 columns</p>\n",
              "</div>"
            ],
            "text/plain": [
              "      PWAPART  PWABEDR  PWALAND  PPERSAUT  PBESAUT  PMOTSCO  PVRAAUT  \\\n",
              "0           0        0        0         6        0        0        0   \n",
              "1           2        0        0         0        0        0        0   \n",
              "2           2        0        0         6        0        0        0   \n",
              "3           0        0        0         6        0        0        0   \n",
              "4           0        0        0         0        0        0        0   \n",
              "...       ...      ...      ...       ...      ...      ...      ...   \n",
              "9817        2        0        0         6        0        0        0   \n",
              "9818        0        0        0         6        0        0        0   \n",
              "9819        0        0        0         6        0        0        0   \n",
              "9820        0        0        0         6        0        0        0   \n",
              "9821        2        0        0         0        0        0        0   \n",
              "\n",
              "      PAANHANG  PTRACTOR  PWERKT  ...  PPERSONG  PGEZONG  PWAOREG  PBRAND  \\\n",
              "0            0         0       0  ...         0        0        0       5   \n",
              "1            0         0       0  ...         0        0        0       2   \n",
              "2            0         0       0  ...         0        0        0       2   \n",
              "3            0         0       0  ...         0        0        0       2   \n",
              "4            0         0       0  ...         0        0        0       6   \n",
              "...        ...       ...     ...  ...       ...      ...      ...     ...   \n",
              "9817         0         0       0  ...         0        0        0       3   \n",
              "9818         0         0       0  ...         0        0        0       4   \n",
              "9819         0         0       0  ...         0        0        0       3   \n",
              "9820         0         0       0  ...         0        0        0       0   \n",
              "9821         0         0       0  ...         0        0        0       4   \n",
              "\n",
              "      PZEILPL  PPLEZIER  PFIETS  PINBOED  PBYSTAND  CARAVAN  \n",
              "0           0         0       0        0         0        0  \n",
              "1           0         0       0        0         0        0  \n",
              "2           0         0       0        0         0        0  \n",
              "3           0         0       0        0         0        0  \n",
              "4           0         0       0        0         0        0  \n",
              "...       ...       ...     ...      ...       ...      ...  \n",
              "9817        0         0       0        0         0        0  \n",
              "9818        0         0       0        0         0        1  \n",
              "9819        0         0       0        1         0        0  \n",
              "9820        0         0       0        0         0        0  \n",
              "9821        0         0       0        0         0        0  \n",
              "\n",
              "[9822 rows x 22 columns]"
            ]
          },
          "execution_count": 31,
          "metadata": {},
          "output_type": "execute_result"
        }
      ],
      "source": [
        "#44-64 + 종속변수 CARAVAN\n",
        "data45"
      ]
    },
    {
      "cell_type": "code",
      "execution_count": null,
      "metadata": {
        "scrolled": true,
        "id": "xaUmPes1RLBO",
        "outputId": "07e4e61d-d744-4745-ff16-07c1d155212a"
      },
      "outputs": [
        {
          "data": {
            "text/plain": [
              "<AxesSubplot:>"
            ]
          },
          "execution_count": 32,
          "metadata": {},
          "output_type": "execute_result"
        },
        {
          "data": {
            "image/png": "[encoded data removed]",
            "text/plain": [
              "<Figure size 432x288 with 1 Axes>"
            ]
          },
          "metadata": {
            "needs_background": "light"
          },
          "output_type": "display_data"
        }
      ],
      "source": [
        "data45['CARAVAN'].value_counts().plot(kind = 'bar')\n",
        "# 불균형"
      ]
    },
    {
      "cell_type": "code",
      "execution_count": null,
      "metadata": {
        "id": "iDr_ReXORLBQ"
      },
      "outputs": [],
      "source": [
        "data0 = data45[data45['CARAVAN'] == 0]\n",
        "data1 = data45[data45['CARAVAN'] == 1]"
      ]
    },
    {
      "cell_type": "code",
      "execution_count": null,
      "metadata": {
        "scrolled": false,
        "id": "uECG8b9DRLBR",
        "outputId": "5ecf4ef8-e9aa-4758-ae8b-0e3e6b669909"
      },
      "outputs": [
        {
          "data": {
            "text/html": [
              "<div>\n",
              "<style scoped>\n",
              "    .dataframe tbody tr th:only-of-type {\n",
              "        vertical-align: middle;\n",
              "    }\n",
              "\n",
              "    .dataframe tbody tr th {\n",
              "        vertical-align: top;\n",
              "    }\n",
              "\n",
              "    .dataframe thead th {\n",
              "        text-align: right;\n",
              "    }\n",
              "</style>\n",
              "<table border=\"1\" class=\"dataframe\">\n",
              "  <thead>\n",
              "    <tr style=\"text-align: right;\">\n",
              "      <th></th>\n",
              "      <th>PWAPART</th>\n",
              "      <th>PWABEDR</th>\n",
              "      <th>PWALAND</th>\n",
              "      <th>PPERSAUT</th>\n",
              "      <th>PBESAUT</th>\n",
              "      <th>PMOTSCO</th>\n",
              "      <th>PVRAAUT</th>\n",
              "      <th>PAANHANG</th>\n",
              "      <th>PTRACTOR</th>\n",
              "      <th>PWERKT</th>\n",
              "      <th>...</th>\n",
              "      <th>PPERSONG</th>\n",
              "      <th>PGEZONG</th>\n",
              "      <th>PWAOREG</th>\n",
              "      <th>PBRAND</th>\n",
              "      <th>PZEILPL</th>\n",
              "      <th>PPLEZIER</th>\n",
              "      <th>PFIETS</th>\n",
              "      <th>PINBOED</th>\n",
              "      <th>PBYSTAND</th>\n",
              "      <th>CARAVAN</th>\n",
              "    </tr>\n",
              "  </thead>\n",
              "  <tbody>\n",
              "    <tr>\n",
              "      <th>0</th>\n",
              "      <td>0</td>\n",
              "      <td>0</td>\n",
              "      <td>0</td>\n",
              "      <td>6</td>\n",
              "      <td>0</td>\n",
              "      <td>0</td>\n",
              "      <td>0</td>\n",
              "      <td>0</td>\n",
              "      <td>0</td>\n",
              "      <td>0</td>\n",
              "      <td>...</td>\n",
              "      <td>0</td>\n",
              "      <td>0</td>\n",
              "      <td>0</td>\n",
              "      <td>5</td>\n",
              "      <td>0</td>\n",
              "      <td>0</td>\n",
              "      <td>0</td>\n",
              "      <td>0</td>\n",
              "      <td>0</td>\n",
              "      <td>0</td>\n",
              "    </tr>\n",
              "    <tr>\n",
              "      <th>1</th>\n",
              "      <td>2</td>\n",
              "      <td>0</td>\n",
              "      <td>0</td>\n",
              "      <td>0</td>\n",
              "      <td>0</td>\n",
              "      <td>0</td>\n",
              "      <td>0</td>\n",
              "      <td>0</td>\n",
              "      <td>0</td>\n",
              "      <td>0</td>\n",
              "      <td>...</td>\n",
              "      <td>0</td>\n",
              "      <td>0</td>\n",
              "      <td>0</td>\n",
              "      <td>2</td>\n",
              "      <td>0</td>\n",
              "      <td>0</td>\n",
              "      <td>0</td>\n",
              "      <td>0</td>\n",
              "      <td>0</td>\n",
              "      <td>0</td>\n",
              "    </tr>\n",
              "    <tr>\n",
              "      <th>2</th>\n",
              "      <td>2</td>\n",
              "      <td>0</td>\n",
              "      <td>0</td>\n",
              "      <td>6</td>\n",
              "      <td>0</td>\n",
              "      <td>0</td>\n",
              "      <td>0</td>\n",
              "      <td>0</td>\n",
              "      <td>0</td>\n",
              "      <td>0</td>\n",
              "      <td>...</td>\n",
              "      <td>0</td>\n",
              "      <td>0</td>\n",
              "      <td>0</td>\n",
              "      <td>2</td>\n",
              "      <td>0</td>\n",
              "      <td>0</td>\n",
              "      <td>0</td>\n",
              "      <td>0</td>\n",
              "      <td>0</td>\n",
              "      <td>0</td>\n",
              "    </tr>\n",
              "    <tr>\n",
              "      <th>3</th>\n",
              "      <td>0</td>\n",
              "      <td>0</td>\n",
              "      <td>0</td>\n",
              "      <td>6</td>\n",
              "      <td>0</td>\n",
              "      <td>0</td>\n",
              "      <td>0</td>\n",
              "      <td>0</td>\n",
              "      <td>0</td>\n",
              "      <td>0</td>\n",
              "      <td>...</td>\n",
              "      <td>0</td>\n",
              "      <td>0</td>\n",
              "      <td>0</td>\n",
              "      <td>2</td>\n",
              "      <td>0</td>\n",
              "      <td>0</td>\n",
              "      <td>0</td>\n",
              "      <td>0</td>\n",
              "      <td>0</td>\n",
              "      <td>0</td>\n",
              "    </tr>\n",
              "    <tr>\n",
              "      <th>4</th>\n",
              "      <td>0</td>\n",
              "      <td>0</td>\n",
              "      <td>0</td>\n",
              "      <td>0</td>\n",
              "      <td>0</td>\n",
              "      <td>0</td>\n",
              "      <td>0</td>\n",
              "      <td>0</td>\n",
              "      <td>0</td>\n",
              "      <td>0</td>\n",
              "      <td>...</td>\n",
              "      <td>0</td>\n",
              "      <td>0</td>\n",
              "      <td>0</td>\n",
              "      <td>6</td>\n",
              "      <td>0</td>\n",
              "      <td>0</td>\n",
              "      <td>0</td>\n",
              "      <td>0</td>\n",
              "      <td>0</td>\n",
              "      <td>0</td>\n",
              "    </tr>\n",
              "    <tr>\n",
              "      <th>...</th>\n",
              "      <td>...</td>\n",
              "      <td>...</td>\n",
              "      <td>...</td>\n",
              "      <td>...</td>\n",
              "      <td>...</td>\n",
              "      <td>...</td>\n",
              "      <td>...</td>\n",
              "      <td>...</td>\n",
              "      <td>...</td>\n",
              "      <td>...</td>\n",
              "      <td>...</td>\n",
              "      <td>...</td>\n",
              "      <td>...</td>\n",
              "      <td>...</td>\n",
              "      <td>...</td>\n",
              "      <td>...</td>\n",
              "      <td>...</td>\n",
              "      <td>...</td>\n",
              "      <td>...</td>\n",
              "      <td>...</td>\n",
              "      <td>...</td>\n",
              "    </tr>\n",
              "    <tr>\n",
              "      <th>9816</th>\n",
              "      <td>0</td>\n",
              "      <td>0</td>\n",
              "      <td>0</td>\n",
              "      <td>6</td>\n",
              "      <td>0</td>\n",
              "      <td>0</td>\n",
              "      <td>0</td>\n",
              "      <td>0</td>\n",
              "      <td>0</td>\n",
              "      <td>0</td>\n",
              "      <td>...</td>\n",
              "      <td>0</td>\n",
              "      <td>0</td>\n",
              "      <td>0</td>\n",
              "      <td>0</td>\n",
              "      <td>0</td>\n",
              "      <td>0</td>\n",
              "      <td>0</td>\n",
              "      <td>0</td>\n",
              "      <td>0</td>\n",
              "      <td>0</td>\n",
              "    </tr>\n",
              "    <tr>\n",
              "      <th>9817</th>\n",
              "      <td>2</td>\n",
              "      <td>0</td>\n",
              "      <td>0</td>\n",
              "      <td>6</td>\n",
              "      <td>0</td>\n",
              "      <td>0</td>\n",
              "      <td>0</td>\n",
              "      <td>0</td>\n",
              "      <td>0</td>\n",
              "      <td>0</td>\n",
              "      <td>...</td>\n",
              "      <td>0</td>\n",
              "      <td>0</td>\n",
              "      <td>0</td>\n",
              "      <td>3</td>\n",
              "      <td>0</td>\n",
              "      <td>0</td>\n",
              "      <td>0</td>\n",
              "      <td>0</td>\n",
              "      <td>0</td>\n",
              "      <td>0</td>\n",
              "    </tr>\n",
              "    <tr>\n",
              "      <th>9819</th>\n",
              "      <td>0</td>\n",
              "      <td>0</td>\n",
              "      <td>0</td>\n",
              "      <td>6</td>\n",
              "      <td>0</td>\n",
              "      <td>0</td>\n",
              "      <td>0</td>\n",
              "      <td>0</td>\n",
              "      <td>0</td>\n",
              "      <td>0</td>\n",
              "      <td>...</td>\n",
              "      <td>0</td>\n",
              "      <td>0</td>\n",
              "      <td>0</td>\n",
              "      <td>3</td>\n",
              "      <td>0</td>\n",
              "      <td>0</td>\n",
              "      <td>0</td>\n",
              "      <td>1</td>\n",
              "      <td>0</td>\n",
              "      <td>0</td>\n",
              "    </tr>\n",
              "    <tr>\n",
              "      <th>9820</th>\n",
              "      <td>0</td>\n",
              "      <td>0</td>\n",
              "      <td>0</td>\n",
              "      <td>6</td>\n",
              "      <td>0</td>\n",
              "      <td>0</td>\n",
              "      <td>0</td>\n",
              "      <td>0</td>\n",
              "      <td>0</td>\n",
              "      <td>0</td>\n",
              "      <td>...</td>\n",
              "      <td>0</td>\n",
              "      <td>0</td>\n",
              "      <td>0</td>\n",
              "      <td>0</td>\n",
              "      <td>0</td>\n",
              "      <td>0</td>\n",
              "      <td>0</td>\n",
              "      <td>0</td>\n",
              "      <td>0</td>\n",
              "      <td>0</td>\n",
              "    </tr>\n",
              "    <tr>\n",
              "      <th>9821</th>\n",
              "      <td>2</td>\n",
              "      <td>0</td>\n",
              "      <td>0</td>\n",
              "      <td>0</td>\n",
              "      <td>0</td>\n",
              "      <td>0</td>\n",
              "      <td>0</td>\n",
              "      <td>0</td>\n",
              "      <td>0</td>\n",
              "      <td>0</td>\n",
              "      <td>...</td>\n",
              "      <td>0</td>\n",
              "      <td>0</td>\n",
              "      <td>0</td>\n",
              "      <td>4</td>\n",
              "      <td>0</td>\n",
              "      <td>0</td>\n",
              "      <td>0</td>\n",
              "      <td>0</td>\n",
              "      <td>0</td>\n",
              "      <td>0</td>\n",
              "    </tr>\n",
              "  </tbody>\n",
              "</table>\n",
              "<p>9236 rows × 22 columns</p>\n",
              "</div>"
            ],
            "text/plain": [
              "      PWAPART  PWABEDR  PWALAND  PPERSAUT  PBESAUT  PMOTSCO  PVRAAUT  \\\n",
              "0           0        0        0         6        0        0        0   \n",
              "1           2        0        0         0        0        0        0   \n",
              "2           2        0        0         6        0        0        0   \n",
              "3           0        0        0         6        0        0        0   \n",
              "4           0        0        0         0        0        0        0   \n",
              "...       ...      ...      ...       ...      ...      ...      ...   \n",
              "9816        0        0        0         6        0        0        0   \n",
              "9817        2        0        0         6        0        0        0   \n",
              "9819        0        0        0         6        0        0        0   \n",
              "9820        0        0        0         6        0        0        0   \n",
              "9821        2        0        0         0        0        0        0   \n",
              "\n",
              "      PAANHANG  PTRACTOR  PWERKT  ...  PPERSONG  PGEZONG  PWAOREG  PBRAND  \\\n",
              "0            0         0       0  ...         0        0        0       5   \n",
              "1            0         0       0  ...         0        0        0       2   \n",
              "2            0         0       0  ...         0        0        0       2   \n",
              "3            0         0       0  ...         0        0        0       2   \n",
              "4            0         0       0  ...         0        0        0       6   \n",
              "...        ...       ...     ...  ...       ...      ...      ...     ...   \n",
              "9816         0         0       0  ...         0        0        0       0   \n",
              "9817         0         0       0  ...         0        0        0       3   \n",
              "9819         0         0       0  ...         0        0        0       3   \n",
              "9820         0         0       0  ...         0        0        0       0   \n",
              "9821         0         0       0  ...         0        0        0       4   \n",
              "\n",
              "      PZEILPL  PPLEZIER  PFIETS  PINBOED  PBYSTAND  CARAVAN  \n",
              "0           0         0       0        0         0        0  \n",
              "1           0         0       0        0         0        0  \n",
              "2           0         0       0        0         0        0  \n",
              "3           0         0       0        0         0        0  \n",
              "4           0         0       0        0         0        0  \n",
              "...       ...       ...     ...      ...       ...      ...  \n",
              "9816        0         0       0        0         0        0  \n",
              "9817        0         0       0        0         0        0  \n",
              "9819        0         0       0        1         0        0  \n",
              "9820        0         0       0        0         0        0  \n",
              "9821        0         0       0        0         0        0  \n",
              "\n",
              "[9236 rows x 22 columns]"
            ]
          },
          "execution_count": 52,
          "metadata": {},
          "output_type": "execute_result"
        }
      ],
      "source": [
        "data0"
      ]
    },
    {
      "cell_type": "code",
      "execution_count": null,
      "metadata": {
        "id": "p_zZZ8JMRLBR",
        "outputId": "3d174830-a771-4d32-98d9-0c6db86efb88"
      },
      "outputs": [
        {
          "data": {
            "text/html": [
              "<div>\n",
              "<style scoped>\n",
              "    .dataframe tbody tr th:only-of-type {\n",
              "        vertical-align: middle;\n",
              "    }\n",
              "\n",
              "    .dataframe tbody tr th {\n",
              "        vertical-align: top;\n",
              "    }\n",
              "\n",
              "    .dataframe thead th {\n",
              "        text-align: right;\n",
              "    }\n",
              "</style>\n",
              "<table border=\"1\" class=\"dataframe\">\n",
              "  <thead>\n",
              "    <tr style=\"text-align: right;\">\n",
              "      <th></th>\n",
              "      <th>PWAPART</th>\n",
              "      <th>PWABEDR</th>\n",
              "      <th>PWALAND</th>\n",
              "      <th>PPERSAUT</th>\n",
              "      <th>PBESAUT</th>\n",
              "      <th>PMOTSCO</th>\n",
              "      <th>PVRAAUT</th>\n",
              "      <th>PAANHANG</th>\n",
              "      <th>PTRACTOR</th>\n",
              "      <th>PWERKT</th>\n",
              "      <th>...</th>\n",
              "      <th>PPERSONG</th>\n",
              "      <th>PGEZONG</th>\n",
              "      <th>PWAOREG</th>\n",
              "      <th>PBRAND</th>\n",
              "      <th>PZEILPL</th>\n",
              "      <th>PPLEZIER</th>\n",
              "      <th>PFIETS</th>\n",
              "      <th>PINBOED</th>\n",
              "      <th>PBYSTAND</th>\n",
              "      <th>CARAVAN</th>\n",
              "    </tr>\n",
              "  </thead>\n",
              "  <tbody>\n",
              "    <tr>\n",
              "      <th>41</th>\n",
              "      <td>2</td>\n",
              "      <td>0</td>\n",
              "      <td>0</td>\n",
              "      <td>6</td>\n",
              "      <td>0</td>\n",
              "      <td>0</td>\n",
              "      <td>0</td>\n",
              "      <td>0</td>\n",
              "      <td>0</td>\n",
              "      <td>0</td>\n",
              "      <td>...</td>\n",
              "      <td>0</td>\n",
              "      <td>0</td>\n",
              "      <td>0</td>\n",
              "      <td>4</td>\n",
              "      <td>0</td>\n",
              "      <td>0</td>\n",
              "      <td>1</td>\n",
              "      <td>0</td>\n",
              "      <td>0</td>\n",
              "      <td>1</td>\n",
              "    </tr>\n",
              "    <tr>\n",
              "      <th>45</th>\n",
              "      <td>2</td>\n",
              "      <td>0</td>\n",
              "      <td>0</td>\n",
              "      <td>6</td>\n",
              "      <td>0</td>\n",
              "      <td>5</td>\n",
              "      <td>0</td>\n",
              "      <td>0</td>\n",
              "      <td>0</td>\n",
              "      <td>0</td>\n",
              "      <td>...</td>\n",
              "      <td>0</td>\n",
              "      <td>0</td>\n",
              "      <td>0</td>\n",
              "      <td>3</td>\n",
              "      <td>0</td>\n",
              "      <td>0</td>\n",
              "      <td>0</td>\n",
              "      <td>0</td>\n",
              "      <td>0</td>\n",
              "      <td>1</td>\n",
              "    </tr>\n",
              "    <tr>\n",
              "      <th>57</th>\n",
              "      <td>2</td>\n",
              "      <td>0</td>\n",
              "      <td>0</td>\n",
              "      <td>0</td>\n",
              "      <td>0</td>\n",
              "      <td>0</td>\n",
              "      <td>0</td>\n",
              "      <td>0</td>\n",
              "      <td>0</td>\n",
              "      <td>0</td>\n",
              "      <td>...</td>\n",
              "      <td>0</td>\n",
              "      <td>0</td>\n",
              "      <td>6</td>\n",
              "      <td>4</td>\n",
              "      <td>0</td>\n",
              "      <td>0</td>\n",
              "      <td>0</td>\n",
              "      <td>0</td>\n",
              "      <td>0</td>\n",
              "      <td>1</td>\n",
              "    </tr>\n",
              "    <tr>\n",
              "      <th>97</th>\n",
              "      <td>0</td>\n",
              "      <td>0</td>\n",
              "      <td>0</td>\n",
              "      <td>0</td>\n",
              "      <td>0</td>\n",
              "      <td>0</td>\n",
              "      <td>0</td>\n",
              "      <td>0</td>\n",
              "      <td>0</td>\n",
              "      <td>0</td>\n",
              "      <td>...</td>\n",
              "      <td>0</td>\n",
              "      <td>0</td>\n",
              "      <td>0</td>\n",
              "      <td>0</td>\n",
              "      <td>0</td>\n",
              "      <td>0</td>\n",
              "      <td>0</td>\n",
              "      <td>0</td>\n",
              "      <td>0</td>\n",
              "      <td>1</td>\n",
              "    </tr>\n",
              "    <tr>\n",
              "      <th>98</th>\n",
              "      <td>0</td>\n",
              "      <td>0</td>\n",
              "      <td>0</td>\n",
              "      <td>0</td>\n",
              "      <td>0</td>\n",
              "      <td>0</td>\n",
              "      <td>0</td>\n",
              "      <td>0</td>\n",
              "      <td>0</td>\n",
              "      <td>0</td>\n",
              "      <td>...</td>\n",
              "      <td>0</td>\n",
              "      <td>0</td>\n",
              "      <td>0</td>\n",
              "      <td>0</td>\n",
              "      <td>0</td>\n",
              "      <td>0</td>\n",
              "      <td>0</td>\n",
              "      <td>0</td>\n",
              "      <td>0</td>\n",
              "      <td>1</td>\n",
              "    </tr>\n",
              "    <tr>\n",
              "      <th>...</th>\n",
              "      <td>...</td>\n",
              "      <td>...</td>\n",
              "      <td>...</td>\n",
              "      <td>...</td>\n",
              "      <td>...</td>\n",
              "      <td>...</td>\n",
              "      <td>...</td>\n",
              "      <td>...</td>\n",
              "      <td>...</td>\n",
              "      <td>...</td>\n",
              "      <td>...</td>\n",
              "      <td>...</td>\n",
              "      <td>...</td>\n",
              "      <td>...</td>\n",
              "      <td>...</td>\n",
              "      <td>...</td>\n",
              "      <td>...</td>\n",
              "      <td>...</td>\n",
              "      <td>...</td>\n",
              "      <td>...</td>\n",
              "      <td>...</td>\n",
              "    </tr>\n",
              "    <tr>\n",
              "      <th>9718</th>\n",
              "      <td>0</td>\n",
              "      <td>0</td>\n",
              "      <td>0</td>\n",
              "      <td>0</td>\n",
              "      <td>0</td>\n",
              "      <td>0</td>\n",
              "      <td>0</td>\n",
              "      <td>0</td>\n",
              "      <td>0</td>\n",
              "      <td>0</td>\n",
              "      <td>...</td>\n",
              "      <td>0</td>\n",
              "      <td>0</td>\n",
              "      <td>0</td>\n",
              "      <td>0</td>\n",
              "      <td>0</td>\n",
              "      <td>0</td>\n",
              "      <td>0</td>\n",
              "      <td>0</td>\n",
              "      <td>0</td>\n",
              "      <td>1</td>\n",
              "    </tr>\n",
              "    <tr>\n",
              "      <th>9756</th>\n",
              "      <td>0</td>\n",
              "      <td>0</td>\n",
              "      <td>0</td>\n",
              "      <td>0</td>\n",
              "      <td>0</td>\n",
              "      <td>0</td>\n",
              "      <td>0</td>\n",
              "      <td>0</td>\n",
              "      <td>0</td>\n",
              "      <td>0</td>\n",
              "      <td>...</td>\n",
              "      <td>0</td>\n",
              "      <td>0</td>\n",
              "      <td>0</td>\n",
              "      <td>4</td>\n",
              "      <td>0</td>\n",
              "      <td>0</td>\n",
              "      <td>0</td>\n",
              "      <td>0</td>\n",
              "      <td>0</td>\n",
              "      <td>1</td>\n",
              "    </tr>\n",
              "    <tr>\n",
              "      <th>9764</th>\n",
              "      <td>0</td>\n",
              "      <td>0</td>\n",
              "      <td>0</td>\n",
              "      <td>6</td>\n",
              "      <td>0</td>\n",
              "      <td>0</td>\n",
              "      <td>0</td>\n",
              "      <td>0</td>\n",
              "      <td>0</td>\n",
              "      <td>0</td>\n",
              "      <td>...</td>\n",
              "      <td>0</td>\n",
              "      <td>0</td>\n",
              "      <td>0</td>\n",
              "      <td>0</td>\n",
              "      <td>0</td>\n",
              "      <td>0</td>\n",
              "      <td>0</td>\n",
              "      <td>0</td>\n",
              "      <td>0</td>\n",
              "      <td>1</td>\n",
              "    </tr>\n",
              "    <tr>\n",
              "      <th>9810</th>\n",
              "      <td>2</td>\n",
              "      <td>0</td>\n",
              "      <td>0</td>\n",
              "      <td>0</td>\n",
              "      <td>0</td>\n",
              "      <td>0</td>\n",
              "      <td>0</td>\n",
              "      <td>0</td>\n",
              "      <td>0</td>\n",
              "      <td>0</td>\n",
              "      <td>...</td>\n",
              "      <td>0</td>\n",
              "      <td>0</td>\n",
              "      <td>0</td>\n",
              "      <td>4</td>\n",
              "      <td>0</td>\n",
              "      <td>0</td>\n",
              "      <td>0</td>\n",
              "      <td>2</td>\n",
              "      <td>0</td>\n",
              "      <td>1</td>\n",
              "    </tr>\n",
              "    <tr>\n",
              "      <th>9818</th>\n",
              "      <td>0</td>\n",
              "      <td>0</td>\n",
              "      <td>0</td>\n",
              "      <td>6</td>\n",
              "      <td>0</td>\n",
              "      <td>0</td>\n",
              "      <td>0</td>\n",
              "      <td>0</td>\n",
              "      <td>0</td>\n",
              "      <td>0</td>\n",
              "      <td>...</td>\n",
              "      <td>0</td>\n",
              "      <td>0</td>\n",
              "      <td>0</td>\n",
              "      <td>4</td>\n",
              "      <td>0</td>\n",
              "      <td>0</td>\n",
              "      <td>0</td>\n",
              "      <td>0</td>\n",
              "      <td>0</td>\n",
              "      <td>1</td>\n",
              "    </tr>\n",
              "  </tbody>\n",
              "</table>\n",
              "<p>586 rows × 22 columns</p>\n",
              "</div>"
            ],
            "text/plain": [
              "      PWAPART  PWABEDR  PWALAND  PPERSAUT  PBESAUT  PMOTSCO  PVRAAUT  \\\n",
              "41          2        0        0         6        0        0        0   \n",
              "45          2        0        0         6        0        5        0   \n",
              "57          2        0        0         0        0        0        0   \n",
              "97          0        0        0         0        0        0        0   \n",
              "98          0        0        0         0        0        0        0   \n",
              "...       ...      ...      ...       ...      ...      ...      ...   \n",
              "9718        0        0        0         0        0        0        0   \n",
              "9756        0        0        0         0        0        0        0   \n",
              "9764        0        0        0         6        0        0        0   \n",
              "9810        2        0        0         0        0        0        0   \n",
              "9818        0        0        0         6        0        0        0   \n",
              "\n",
              "      PAANHANG  PTRACTOR  PWERKT  ...  PPERSONG  PGEZONG  PWAOREG  PBRAND  \\\n",
              "41           0         0       0  ...         0        0        0       4   \n",
              "45           0         0       0  ...         0        0        0       3   \n",
              "57           0         0       0  ...         0        0        6       4   \n",
              "97           0         0       0  ...         0        0        0       0   \n",
              "98           0         0       0  ...         0        0        0       0   \n",
              "...        ...       ...     ...  ...       ...      ...      ...     ...   \n",
              "9718         0         0       0  ...         0        0        0       0   \n",
              "9756         0         0       0  ...         0        0        0       4   \n",
              "9764         0         0       0  ...         0        0        0       0   \n",
              "9810         0         0       0  ...         0        0        0       4   \n",
              "9818         0         0       0  ...         0        0        0       4   \n",
              "\n",
              "      PZEILPL  PPLEZIER  PFIETS  PINBOED  PBYSTAND  CARAVAN  \n",
              "41          0         0       1        0         0        1  \n",
              "45          0         0       0        0         0        1  \n",
              "57          0         0       0        0         0        1  \n",
              "97          0         0       0        0         0        1  \n",
              "98          0         0       0        0         0        1  \n",
              "...       ...       ...     ...      ...       ...      ...  \n",
              "9718        0         0       0        0         0        1  \n",
              "9756        0         0       0        0         0        1  \n",
              "9764        0         0       0        0         0        1  \n",
              "9810        0         0       0        2         0        1  \n",
              "9818        0         0       0        0         0        1  \n",
              "\n",
              "[586 rows x 22 columns]"
            ]
          },
          "execution_count": 53,
          "metadata": {},
          "output_type": "execute_result"
        }
      ],
      "source": [
        "data1"
      ]
    },
    {
      "cell_type": "code",
      "execution_count": null,
      "metadata": {
        "scrolled": false,
        "id": "3TfCtIcgRLBS",
        "outputId": "2e81e354-debd-40b9-a990-056110905a79"
      },
      "outputs": [
        {
          "data": {
            "text/plain": [
              "Text(0.5, 1.0, 'PWAPART in CARAVAN = 1')"
            ]
          },
          "execution_count": 71,
          "metadata": {},
          "output_type": "execute_result"
        },
        {
          "data": {
            "image/png": "[encoded data removed]",
            "text/plain": [
              "<Figure size 720x432 with 2 Axes>"
            ]
          },
          "metadata": {
            "needs_background": "light"
          },
          "output_type": "display_data"
        }
      ],
      "source": [
        "#44\n",
        "plt.figure(figsize=(10,6))\n",
        "plt.subplots_adjust(hspace = 0.4)\n",
        "plt.subplot(211)\n",
        "sns.countplot(y=\"PWAPART\", data = data0)\n",
        "plt.title(\"PWAPART in CARAVAN = 0\")\n",
        "plt.subplot(212)\n",
        "sns.countplot(y=\"PWAPART\", data = data1)\n",
        "plt.title(\"PWAPART in CARAVAN = 1\")"
      ]
    },
    {
      "cell_type": "code",
      "execution_count": null,
      "metadata": {
        "id": "QlasuEPNRLBT",
        "outputId": "6ac54c01-a333-460d-c0de-6ffd6e4b630b"
      },
      "outputs": [
        {
          "data": {
            "text/plain": [
              "Text(0.5, 1.0, 'PWABEDR in CARAVAN = 1')"
            ]
          },
          "execution_count": 73,
          "metadata": {},
          "output_type": "execute_result"
        },
        {
          "data": {
            "image/png": "[encoded data removed]",
            "text/plain": [
              "<Figure size 720x432 with 2 Axes>"
            ]
          },
          "metadata": {
            "needs_background": "light"
          },
          "output_type": "display_data"
        }
      ],
      "source": [
        "#45\n",
        "plt.figure(figsize=(10,6))\n",
        "plt.subplots_adjust(hspace = 0.4)\n",
        "plt.subplot(211)\n",
        "sns.countplot(y=\"PWABEDR\", data = data0)\n",
        "plt.title(\"PWABEDR in CARAVAN = 0\")\n",
        "plt.subplot(212)\n",
        "sns.countplot(y=\"PWABEDR\", data = data1)\n",
        "plt.title(\"PWABEDR in CARAVAN = 1\")"
      ]
    },
    {
      "cell_type": "code",
      "execution_count": null,
      "metadata": {
        "id": "jbkr9HoiRLBU",
        "outputId": "699c1896-bff4-41ac-9ffe-ca64d122409f"
      },
      "outputs": [
        {
          "data": {
            "text/plain": [
              "Text(0.5, 1.0, 'PWALAND in CARAVAN = 1')"
            ]
          },
          "execution_count": 92,
          "metadata": {},
          "output_type": "execute_result"
        },
        {
          "data": {
            "image/png": "[encoded data removed]",
            "text/plain": [
              "<Figure size 720x432 with 2 Axes>"
            ]
          },
          "metadata": {
            "needs_background": "light"
          },
          "output_type": "display_data"
        }
      ],
      "source": [
        "#46\n",
        "plt.figure(figsize=(10,6))\n",
        "plt.subplots_adjust(hspace = 0.4)\n",
        "plt.subplot(211)\n",
        "sns.countplot(y=\"PWALAND\", data = data0)\n",
        "plt.title(\"PWALAND in CARAVAN = 0\")\n",
        "plt.subplot(212)\n",
        "sns.countplot(y=\"PWALAND\", data = data1)\n",
        "plt.title(\"PWALAND in CARAVAN = 1\")"
      ]
    },
    {
      "cell_type": "code",
      "execution_count": null,
      "metadata": {
        "id": "mx0QRh7HRLBU",
        "outputId": "1fa58994-56be-4be1-e459-0635baeca1eb"
      },
      "outputs": [
        {
          "data": {
            "text/plain": [
              "Text(0.5, 1.0, 'PPERSAUT in CARAVAN = 1')"
            ]
          },
          "execution_count": 91,
          "metadata": {},
          "output_type": "execute_result"
        },
        {
          "data": {
            "image/png": "[encoded data removed]",
            "text/plain": [
              "<Figure size 720x432 with 2 Axes>"
            ]
          },
          "metadata": {
            "needs_background": "light"
          },
          "output_type": "display_data"
        }
      ],
      "source": [
        "#47\n",
        "plt.figure(figsize=(10,6))\n",
        "plt.subplots_adjust(hspace = 0.4)\n",
        "plt.subplot(211)\n",
        "sns.countplot(y=\"PPERSAUT\", data = data0)\n",
        "plt.title(\"PPERSAUT in CARAVAN = 0\")\n",
        "plt.subplot(212)\n",
        "sns.countplot(y=\"PPERSAUT\", data = data1)\n",
        "plt.title(\"PPERSAUT in CARAVAN = 1\")"
      ]
    },
    {
      "cell_type": "code",
      "execution_count": null,
      "metadata": {
        "id": "sP6CfVcrRLBV",
        "outputId": "c9d65c60-8d52-4c92-cbf6-5aab1dbb3b03"
      },
      "outputs": [
        {
          "data": {
            "text/plain": [
              "Text(0.5, 1.0, 'PBESAUT in CARAVAN = 1')"
            ]
          },
          "execution_count": 90,
          "metadata": {},
          "output_type": "execute_result"
        },
        {
          "data": {
            "image/png": "[encoded data removed]",
            "text/plain": [
              "<Figure size 720x432 with 2 Axes>"
            ]
          },
          "metadata": {
            "needs_background": "light"
          },
          "output_type": "display_data"
        }
      ],
      "source": [
        "#48\n",
        "plt.figure(figsize=(10,6))\n",
        "plt.subplots_adjust(hspace = 0.4)\n",
        "plt.subplot(211)\n",
        "sns.countplot(y=\"PBESAUT\", data = data0)\n",
        "plt.title(\"PBESAUT in CARAVAN = 0\")\n",
        "plt.subplot(212)\n",
        "sns.countplot(y=\"PBESAUT\", data = data1)\n",
        "plt.title(\"PBESAUT in CARAVAN = 1\")"
      ]
    },
    {
      "cell_type": "code",
      "execution_count": null,
      "metadata": {
        "id": "sfdw1o3jRLBV",
        "outputId": "81ae8a5e-ab52-4e49-85e4-d402f53b74b6"
      },
      "outputs": [
        {
          "data": {
            "text/plain": [
              "Text(0.5, 1.0, 'PMOTSCO in CARAVAN = 1')"
            ]
          },
          "execution_count": 89,
          "metadata": {},
          "output_type": "execute_result"
        },
        {
          "data": {
            "image/png": "[encoded data removed]",
            "text/plain": [
              "<Figure size 720x432 with 2 Axes>"
            ]
          },
          "metadata": {
            "needs_background": "light"
          },
          "output_type": "display_data"
        }
      ],
      "source": [
        "#49\n",
        "plt.figure(figsize=(10,6))\n",
        "plt.subplots_adjust(hspace = 0.4)\n",
        "plt.subplot(211)\n",
        "sns.countplot(y=\"PMOTSCO\", data = data0)\n",
        "plt.title(\"PMOTSCO in CARAVAN = 0\")\n",
        "plt.subplot(212)\n",
        "sns.countplot(y=\"PMOTSCO\", data = data1)\n",
        "plt.title(\"PMOTSCO in CARAVAN = 1\")"
      ]
    },
    {
      "cell_type": "code",
      "execution_count": null,
      "metadata": {
        "id": "yraY5MSLRLBW",
        "outputId": "870440eb-b31b-43e1-8d3a-d09b7579be79"
      },
      "outputs": [
        {
          "data": {
            "text/plain": [
              "Text(0.5, 1.0, 'PVRAAUT in CARAVAN = 1')"
            ]
          },
          "execution_count": 88,
          "metadata": {},
          "output_type": "execute_result"
        },
        {
          "data": {
            "image/png": "[encoded data removed]",
            "text/plain": [
              "<Figure size 720x432 with 2 Axes>"
            ]
          },
          "metadata": {
            "needs_background": "light"
          },
          "output_type": "display_data"
        }
      ],
      "source": [
        "#50\n",
        "plt.figure(figsize=(10,6))\n",
        "plt.subplots_adjust(hspace = 0.4)\n",
        "plt.subplot(211)\n",
        "sns.countplot(y=\"PVRAAUT\", data = data0)\n",
        "plt.title(\"PVRAAUT in CARAVAN = 0\")\n",
        "plt.subplot(212)\n",
        "sns.countplot(y=\"PVRAAUT\", data = data1)\n",
        "plt.title(\"PVRAAUT in CARAVAN = 1\")"
      ]
    },
    {
      "cell_type": "code",
      "execution_count": null,
      "metadata": {
        "id": "w9NnEPhPRLBX",
        "outputId": "897a4709-687b-457f-91c2-226809944502"
      },
      "outputs": [
        {
          "data": {
            "text/plain": [
              "Text(0.5, 1.0, 'PAANHANG in CARAVAN = 1')"
            ]
          },
          "execution_count": 87,
          "metadata": {},
          "output_type": "execute_result"
        },
        {
          "data": {
            "image/png": "[encoded data removed]",
            "text/plain": [
              "<Figure size 720x432 with 2 Axes>"
            ]
          },
          "metadata": {
            "needs_background": "light"
          },
          "output_type": "display_data"
        }
      ],
      "source": [
        "#51\n",
        "plt.figure(figsize=(10,6))\n",
        "plt.subplots_adjust(hspace = 0.4)\n",
        "plt.subplot(211)\n",
        "sns.countplot(y=\"PAANHANG\", data = data0)\n",
        "plt.title(\"PAANHANG in CARAVAN = 0\")\n",
        "plt.subplot(212)\n",
        "sns.countplot(y=\"PAANHANG\", data = data1)\n",
        "plt.title(\"PAANHANG in CARAVAN = 1\")"
      ]
    },
    {
      "cell_type": "code",
      "execution_count": null,
      "metadata": {
        "id": "pnsYlR0_RLBa",
        "outputId": "61f69c0f-602a-4ffc-d446-0e1d4954c4ab"
      },
      "outputs": [
        {
          "data": {
            "text/plain": [
              "Text(0.5, 1.0, 'PTRACTOR in CARAVAN = 1')"
            ]
          },
          "execution_count": 86,
          "metadata": {},
          "output_type": "execute_result"
        },
        {
          "data": {
            "image/png": "[encoded data removed]",
            "text/plain": [
              "<Figure size 720x432 with 2 Axes>"
            ]
          },
          "metadata": {
            "needs_background": "light"
          },
          "output_type": "display_data"
        }
      ],
      "source": [
        "#52\n",
        "plt.figure(figsize=(10,6))\n",
        "plt.subplots_adjust(hspace = 0.4)\n",
        "plt.subplot(211)\n",
        "sns.countplot(y=\"PTRACTOR\", data = data0)\n",
        "plt.title(\"PTRACTOR in CARAVAN = 0\")\n",
        "plt.subplot(212)\n",
        "sns.countplot(y=\"PTRACTOR\", data = data1)\n",
        "plt.title(\"PTRACTOR in CARAVAN = 1\")"
      ]
    },
    {
      "cell_type": "code",
      "execution_count": null,
      "metadata": {
        "id": "f4-r32EqRLBb",
        "outputId": "80e2cd25-48cd-45e0-ed93-80079ba0a32d"
      },
      "outputs": [
        {
          "data": {
            "text/plain": [
              "Text(0.5, 1.0, 'PWERKT in CARAVAN = 1')"
            ]
          },
          "execution_count": 85,
          "metadata": {},
          "output_type": "execute_result"
        },
        {
          "data": {
            "image/png": "[encoded data removed]",
            "text/plain": [
              "<Figure size 720x432 with 2 Axes>"
            ]
          },
          "metadata": {
            "needs_background": "light"
          },
          "output_type": "display_data"
        }
      ],
      "source": [
        "#53\n",
        "plt.figure(figsize=(10,6))\n",
        "plt.subplots_adjust(hspace = 0.4)\n",
        "plt.subplot(211)\n",
        "sns.countplot(y=\"PWERKT\", data = data0)\n",
        "plt.title(\"PWERKT in CARAVAN = 0\")\n",
        "plt.subplot(212)\n",
        "sns.countplot(y=\"PWERKT\", data = data1)\n",
        "plt.title(\"PWERKT in CARAVAN = 1\")"
      ]
    },
    {
      "cell_type": "code",
      "execution_count": null,
      "metadata": {
        "id": "BBcUgvnmRLBd",
        "outputId": "49e44b06-0173-4f88-ece3-ee9c99269f50"
      },
      "outputs": [
        {
          "data": {
            "text/plain": [
              "Text(0.5, 1.0, 'PBROM in CARAVAN = 1')"
            ]
          },
          "execution_count": 84,
          "metadata": {},
          "output_type": "execute_result"
        },
        {
          "data": {
            "image/png": "[encoded data removed]",
            "text/plain": [
              "<Figure size 720x432 with 2 Axes>"
            ]
          },
          "metadata": {
            "needs_background": "light"
          },
          "output_type": "display_data"
        }
      ],
      "source": [
        "#54\n",
        "plt.figure(figsize=(10,6))\n",
        "plt.subplots_adjust(hspace = 0.4)\n",
        "plt.subplot(211)\n",
        "sns.countplot(y=\"PBROM\", data = data0)\n",
        "plt.title(\"PBROM in CARAVAN = 0\")\n",
        "plt.subplot(212)\n",
        "sns.countplot(y=\"PBROM\", data = data1)\n",
        "plt.title(\"PBROM in CARAVAN = 1\")"
      ]
    },
    {
      "cell_type": "code",
      "execution_count": null,
      "metadata": {
        "id": "Fx6co5qTRLBe",
        "outputId": "ca341898-4908-4b21-8cdd-81976b10ac2f"
      },
      "outputs": [
        {
          "data": {
            "text/plain": [
              "Text(0.5, 1.0, 'PLEVEN in CARAVAN = 1')"
            ]
          },
          "execution_count": 83,
          "metadata": {},
          "output_type": "execute_result"
        },
        {
          "data": {
            "image/png": "[encoded data removed]",
            "text/plain": [
              "<Figure size 720x432 with 2 Axes>"
            ]
          },
          "metadata": {
            "needs_background": "light"
          },
          "output_type": "display_data"
        }
      ],
      "source": [
        "#55\n",
        "plt.figure(figsize=(10,6))\n",
        "plt.subplots_adjust(hspace = 0.4)\n",
        "plt.subplot(211)\n",
        "sns.countplot(y=\"PLEVEN\", data = data0)\n",
        "plt.title(\"PLEVEN in CARAVAN = 0\")\n",
        "plt.subplot(212)\n",
        "sns.countplot(y=\"PLEVEN\", data = data1)\n",
        "plt.title(\"PLEVEN in CARAVAN = 1\")"
      ]
    },
    {
      "cell_type": "code",
      "execution_count": null,
      "metadata": {
        "id": "PbzVBI7qRLBe",
        "outputId": "15eb821c-aa2b-4d29-e1a7-a3c84068c75e"
      },
      "outputs": [
        {
          "data": {
            "text/plain": [
              "Text(0.5, 1.0, 'PPERSONG in CARAVAN = 1')"
            ]
          },
          "execution_count": 82,
          "metadata": {},
          "output_type": "execute_result"
        },
        {
          "data": {
            "image/png": "[encoded data removed]",
            "text/plain": [
              "<Figure size 720x432 with 2 Axes>"
            ]
          },
          "metadata": {
            "needs_background": "light"
          },
          "output_type": "display_data"
        }
      ],
      "source": [
        "#56\n",
        "plt.figure(figsize=(10,6))\n",
        "plt.subplots_adjust(hspace = 0.4)\n",
        "plt.subplot(211)\n",
        "sns.countplot(y=\"PPERSONG\", data = data0)\n",
        "plt.title(\"PPERSONG in CARAVAN = 0\")\n",
        "plt.subplot(212)\n",
        "sns.countplot(y=\"PPERSONG\", data = data1)\n",
        "plt.title(\"PPERSONG in CARAVAN = 1\")"
      ]
    },
    {
      "cell_type": "code",
      "execution_count": null,
      "metadata": {
        "id": "pXOpzwPxRLBf",
        "outputId": "f5b3be22-0bf3-433f-b8ff-16da07ddd627"
      },
      "outputs": [
        {
          "data": {
            "text/plain": [
              "Text(0.5, 1.0, 'PGEZONG in CARAVAN = 1')"
            ]
          },
          "execution_count": 81,
          "metadata": {},
          "output_type": "execute_result"
        },
        {
          "data": {
            "image/png": "[encoded data removed]",
            "text/plain": [
              "<Figure size 720x432 with 2 Axes>"
            ]
          },
          "metadata": {
            "needs_background": "light"
          },
          "output_type": "display_data"
        }
      ],
      "source": [
        "#57\n",
        "plt.figure(figsize=(10,6))\n",
        "plt.subplots_adjust(hspace = 0.4)\n",
        "plt.subplot(211)\n",
        "sns.countplot(y=\"PGEZONG\", data = data0)\n",
        "plt.title(\"PGEZONG in CARAVAN = 0\")\n",
        "plt.subplot(212)\n",
        "sns.countplot(y=\"PGEZONG\", data = data1)\n",
        "plt.title(\"PGEZONG in CARAVAN = 1\")"
      ]
    },
    {
      "cell_type": "code",
      "execution_count": null,
      "metadata": {
        "id": "iFOPbw6cRLBf",
        "outputId": "3a02a08b-ea36-45fa-db25-3c52a6205de4"
      },
      "outputs": [
        {
          "data": {
            "text/plain": [
              "Text(0.5, 1.0, 'PWAOREG in CARAVAN = 1')"
            ]
          },
          "execution_count": 80,
          "metadata": {},
          "output_type": "execute_result"
        },
        {
          "data": {
            "image/png": "[encoded data removed]",
            "text/plain": [
              "<Figure size 720x432 with 2 Axes>"
            ]
          },
          "metadata": {
            "needs_background": "light"
          },
          "output_type": "display_data"
        }
      ],
      "source": [
        "#58\n",
        "plt.figure(figsize=(10,6))\n",
        "plt.subplots_adjust(hspace = 0.4)\n",
        "plt.subplot(211)\n",
        "sns.countplot(y=\"PWAOREG\", data = data0)\n",
        "plt.title(\"PWAOREG in CARAVAN = 0\")\n",
        "plt.subplot(212)\n",
        "sns.countplot(y=\"PWAOREG\", data = data1)\n",
        "plt.title(\"PWAOREG in CARAVAN = 1\")"
      ]
    },
    {
      "cell_type": "code",
      "execution_count": null,
      "metadata": {
        "id": "qMjSHczYRLBg",
        "outputId": "4df39645-8179-4403-86ec-bda7cf6ed2ae"
      },
      "outputs": [
        {
          "data": {
            "text/plain": [
              "Text(0.5, 1.0, 'PBRAND in CARAVAN = 1')"
            ]
          },
          "execution_count": 79,
          "metadata": {},
          "output_type": "execute_result"
        },
        {
          "data": {
            "image/png": "[encoded data removed]",
            "text/plain": [
              "<Figure size 720x432 with 2 Axes>"
            ]
          },
          "metadata": {
            "needs_background": "light"
          },
          "output_type": "display_data"
        }
      ],
      "source": [
        "#59\n",
        "plt.figure(figsize=(10,6))\n",
        "plt.subplots_adjust(hspace = 0.4)\n",
        "plt.subplot(211)\n",
        "sns.countplot(y=\"PBRAND\", data = data0)\n",
        "plt.title(\"PBRAND in CARAVAN = 0\")\n",
        "plt.subplot(212)\n",
        "sns.countplot(y=\"PBRAND\", data = data1)\n",
        "plt.title(\"PBRAND in CARAVAN = 1\")"
      ]
    },
    {
      "cell_type": "code",
      "execution_count": null,
      "metadata": {
        "id": "ue-iQWwARLBg",
        "outputId": "8a327178-4557-413b-9fc9-9da724defcda"
      },
      "outputs": [
        {
          "data": {
            "text/plain": [
              "Text(0.5, 1.0, 'PZEILPL in CARAVAN = 1')"
            ]
          },
          "execution_count": 78,
          "metadata": {},
          "output_type": "execute_result"
        },
        {
          "data": {
            "image/png": "[encoded data removed]",
            "text/plain": [
              "<Figure size 720x432 with 2 Axes>"
            ]
          },
          "metadata": {
            "needs_background": "light"
          },
          "output_type": "display_data"
        }
      ],
      "source": [
        "#60\n",
        "plt.figure(figsize=(10,6))\n",
        "plt.subplots_adjust(hspace = 0.4)\n",
        "plt.subplot(211)\n",
        "sns.countplot(y=\"PZEILPL\", data = data0)\n",
        "plt.title(\"PZEILPL in CARAVAN = 0\")\n",
        "plt.subplot(212)\n",
        "sns.countplot(y=\"PZEILPL\", data = data1)\n",
        "plt.title(\"PZEILPL in CARAVAN = 1\")"
      ]
    },
    {
      "cell_type": "code",
      "execution_count": null,
      "metadata": {
        "id": "f9bqSHQFRLBh",
        "outputId": "4b55becd-2dea-4dfd-a4a0-9bedb91397e0"
      },
      "outputs": [
        {
          "data": {
            "text/plain": [
              "Text(0.5, 1.0, 'PPLEZIER in CARAVAN = 1')"
            ]
          },
          "execution_count": 77,
          "metadata": {},
          "output_type": "execute_result"
        },
        {
          "data": {
            "image/png": "[encoded data removed]",
            "text/plain": [
              "<Figure size 720x432 with 2 Axes>"
            ]
          },
          "metadata": {
            "needs_background": "light"
          },
          "output_type": "display_data"
        }
      ],
      "source": [
        "#61\n",
        "plt.figure(figsize=(10,6))\n",
        "plt.subplots_adjust(hspace = 0.4)\n",
        "plt.subplot(211)\n",
        "sns.countplot(y=\"PPLEZIER\", data = data0)\n",
        "plt.title(\"PPLEZIER in CARAVAN = 0\")\n",
        "plt.subplot(212)\n",
        "sns.countplot(y=\"PPLEZIER\", data = data1)\n",
        "plt.title(\"PPLEZIER in CARAVAN = 1\")"
      ]
    },
    {
      "cell_type": "code",
      "execution_count": null,
      "metadata": {
        "id": "CSnboYGNRLBh",
        "outputId": "1239a05c-9340-4cdd-f983-2ceeae460a01"
      },
      "outputs": [
        {
          "data": {
            "text/plain": [
              "Text(0.5, 1.0, 'PFIETS in CARAVAN = 1')"
            ]
          },
          "execution_count": 76,
          "metadata": {},
          "output_type": "execute_result"
        },
        {
          "data": {
            "image/png": "[encoded data removed]",
            "text/plain": [
              "<Figure size 720x432 with 2 Axes>"
            ]
          },
          "metadata": {
            "needs_background": "light"
          },
          "output_type": "display_data"
        }
      ],
      "source": [
        "#62\n",
        "plt.figure(figsize=(10,6))\n",
        "plt.subplots_adjust(hspace = 0.4)\n",
        "plt.subplot(211)\n",
        "sns.countplot(y=\"PFIETS\", data = data0)\n",
        "plt.title(\"PFIETS in CARAVAN = 0\")\n",
        "plt.subplot(212)\n",
        "sns.countplot(y=\"PFIETS\", data = data1)\n",
        "plt.title(\"PFIETS in CARAVAN = 1\")"
      ]
    },
    {
      "cell_type": "code",
      "execution_count": null,
      "metadata": {
        "id": "-YiFse1gRLBh",
        "outputId": "3ecf4fc5-65d7-4429-85ce-749ce00e4c11"
      },
      "outputs": [
        {
          "data": {
            "text/plain": [
              "Text(0.5, 1.0, 'PINBOED in CARAVAN = 1')"
            ]
          },
          "execution_count": 75,
          "metadata": {},
          "output_type": "execute_result"
        },
        {
          "data": {
            "image/png": "[encoded data removed]",
            "text/plain": [
              "<Figure size 720x432 with 2 Axes>"
            ]
          },
          "metadata": {
            "needs_background": "light"
          },
          "output_type": "display_data"
        }
      ],
      "source": [
        "#63\n",
        "plt.figure(figsize=(10,6))\n",
        "plt.subplots_adjust(hspace = 0.4)\n",
        "plt.subplot(211)\n",
        "sns.countplot(y=\"PINBOED\", data = data0)\n",
        "plt.title(\"PINBOED in CARAVAN = 0\")\n",
        "plt.subplot(212)\n",
        "sns.countplot(y=\"PINBOED\", data = data1)\n",
        "plt.title(\"PINBOED in CARAVAN = 1\")"
      ]
    },
    {
      "cell_type": "code",
      "execution_count": null,
      "metadata": {
        "id": "R60PehcORLBi",
        "outputId": "15da3a2d-23b1-4439-ec0e-81203e157cf2"
      },
      "outputs": [
        {
          "data": {
            "text/plain": [
              "Text(0.5, 1.0, 'PBYSTAND in CARAVAN = 1')"
            ]
          },
          "execution_count": 74,
          "metadata": {},
          "output_type": "execute_result"
        },
        {
          "data": {
            "image/png": "[encoded data removed]",
            "text/plain": [
              "<Figure size 720x432 with 2 Axes>"
            ]
          },
          "metadata": {
            "needs_background": "light"
          },
          "output_type": "display_data"
        }
      ],
      "source": [
        "#64\n",
        "plt.figure(figsize=(10,6))\n",
        "plt.subplots_adjust(hspace = 0.4)\n",
        "plt.subplot(211)\n",
        "sns.countplot(y=\"PBYSTAND\", data = data0)\n",
        "plt.title(\"PBYSTAND in CARAVAN = 0\")\n",
        "plt.subplot(212)\n",
        "sns.countplot(y=\"PBYSTAND\", data = data1)\n",
        "plt.title(\"PBYSTAND in CARAVAN = 1\")"
      ]
    },
    {
      "cell_type": "code",
      "execution_count": null,
      "metadata": {
        "id": "unlRF4XyRLBi"
      },
      "outputs": [],
      "source": [
        "data65 = data.iloc[:,64:]"
      ]
    },
    {
      "cell_type": "code",
      "execution_count": null,
      "metadata": {
        "id": "1LmMxXtQRLBj"
      },
      "outputs": [],
      "source": [
        "data00 = data65[data65['CARAVAN'] == 0]\n",
        "data11 = data65[data65['CARAVAN'] == 1]"
      ]
    },
    {
      "cell_type": "code",
      "execution_count": null,
      "metadata": {
        "id": "5ubzONl6RLBj",
        "outputId": "8739e436-2969-4cf7-81bf-b9f3a7f8f7cf"
      },
      "outputs": [
        {
          "data": {
            "text/html": [
              "<div>\n",
              "<style scoped>\n",
              "    .dataframe tbody tr th:only-of-type {\n",
              "        vertical-align: middle;\n",
              "    }\n",
              "\n",
              "    .dataframe tbody tr th {\n",
              "        vertical-align: top;\n",
              "    }\n",
              "\n",
              "    .dataframe thead th {\n",
              "        text-align: right;\n",
              "    }\n",
              "</style>\n",
              "<table border=\"1\" class=\"dataframe\">\n",
              "  <thead>\n",
              "    <tr style=\"text-align: right;\">\n",
              "      <th></th>\n",
              "      <th>AWAPART</th>\n",
              "      <th>AWABEDR</th>\n",
              "      <th>AWALAND</th>\n",
              "      <th>APERSAUT</th>\n",
              "      <th>ABESAUT</th>\n",
              "      <th>AMOTSCO</th>\n",
              "      <th>AVRAAUT</th>\n",
              "      <th>AAANHANG</th>\n",
              "      <th>ATRACTOR</th>\n",
              "      <th>AWERKT</th>\n",
              "      <th>...</th>\n",
              "      <th>APERSONG</th>\n",
              "      <th>AGEZONG</th>\n",
              "      <th>AWAOREG</th>\n",
              "      <th>ABRAND</th>\n",
              "      <th>AZEILPL</th>\n",
              "      <th>APLEZIER</th>\n",
              "      <th>AFIETS</th>\n",
              "      <th>AINBOED</th>\n",
              "      <th>ABYSTAND</th>\n",
              "      <th>CARAVAN</th>\n",
              "    </tr>\n",
              "  </thead>\n",
              "  <tbody>\n",
              "    <tr>\n",
              "      <th>0</th>\n",
              "      <td>0</td>\n",
              "      <td>0</td>\n",
              "      <td>0</td>\n",
              "      <td>1</td>\n",
              "      <td>0</td>\n",
              "      <td>0</td>\n",
              "      <td>0</td>\n",
              "      <td>0</td>\n",
              "      <td>0</td>\n",
              "      <td>0</td>\n",
              "      <td>...</td>\n",
              "      <td>0</td>\n",
              "      <td>0</td>\n",
              "      <td>0</td>\n",
              "      <td>1</td>\n",
              "      <td>0</td>\n",
              "      <td>0</td>\n",
              "      <td>0</td>\n",
              "      <td>0</td>\n",
              "      <td>0</td>\n",
              "      <td>0</td>\n",
              "    </tr>\n",
              "    <tr>\n",
              "      <th>1</th>\n",
              "      <td>2</td>\n",
              "      <td>0</td>\n",
              "      <td>0</td>\n",
              "      <td>0</td>\n",
              "      <td>0</td>\n",
              "      <td>0</td>\n",
              "      <td>0</td>\n",
              "      <td>0</td>\n",
              "      <td>0</td>\n",
              "      <td>0</td>\n",
              "      <td>...</td>\n",
              "      <td>0</td>\n",
              "      <td>0</td>\n",
              "      <td>0</td>\n",
              "      <td>1</td>\n",
              "      <td>0</td>\n",
              "      <td>0</td>\n",
              "      <td>0</td>\n",
              "      <td>0</td>\n",
              "      <td>0</td>\n",
              "      <td>0</td>\n",
              "    </tr>\n",
              "    <tr>\n",
              "      <th>2</th>\n",
              "      <td>1</td>\n",
              "      <td>0</td>\n",
              "      <td>0</td>\n",
              "      <td>1</td>\n",
              "      <td>0</td>\n",
              "      <td>0</td>\n",
              "      <td>0</td>\n",
              "      <td>0</td>\n",
              "      <td>0</td>\n",
              "      <td>0</td>\n",
              "      <td>...</td>\n",
              "      <td>0</td>\n",
              "      <td>0</td>\n",
              "      <td>0</td>\n",
              "      <td>1</td>\n",
              "      <td>0</td>\n",
              "      <td>0</td>\n",
              "      <td>0</td>\n",
              "      <td>0</td>\n",
              "      <td>0</td>\n",
              "      <td>0</td>\n",
              "    </tr>\n",
              "    <tr>\n",
              "      <th>3</th>\n",
              "      <td>0</td>\n",
              "      <td>0</td>\n",
              "      <td>0</td>\n",
              "      <td>1</td>\n",
              "      <td>0</td>\n",
              "      <td>0</td>\n",
              "      <td>0</td>\n",
              "      <td>0</td>\n",
              "      <td>0</td>\n",
              "      <td>0</td>\n",
              "      <td>...</td>\n",
              "      <td>0</td>\n",
              "      <td>0</td>\n",
              "      <td>0</td>\n",
              "      <td>1</td>\n",
              "      <td>0</td>\n",
              "      <td>0</td>\n",
              "      <td>0</td>\n",
              "      <td>0</td>\n",
              "      <td>0</td>\n",
              "      <td>0</td>\n",
              "    </tr>\n",
              "    <tr>\n",
              "      <th>4</th>\n",
              "      <td>0</td>\n",
              "      <td>0</td>\n",
              "      <td>0</td>\n",
              "      <td>0</td>\n",
              "      <td>0</td>\n",
              "      <td>0</td>\n",
              "      <td>0</td>\n",
              "      <td>0</td>\n",
              "      <td>0</td>\n",
              "      <td>0</td>\n",
              "      <td>...</td>\n",
              "      <td>0</td>\n",
              "      <td>0</td>\n",
              "      <td>0</td>\n",
              "      <td>1</td>\n",
              "      <td>0</td>\n",
              "      <td>0</td>\n",
              "      <td>0</td>\n",
              "      <td>0</td>\n",
              "      <td>0</td>\n",
              "      <td>0</td>\n",
              "    </tr>\n",
              "    <tr>\n",
              "      <th>...</th>\n",
              "      <td>...</td>\n",
              "      <td>...</td>\n",
              "      <td>...</td>\n",
              "      <td>...</td>\n",
              "      <td>...</td>\n",
              "      <td>...</td>\n",
              "      <td>...</td>\n",
              "      <td>...</td>\n",
              "      <td>...</td>\n",
              "      <td>...</td>\n",
              "      <td>...</td>\n",
              "      <td>...</td>\n",
              "      <td>...</td>\n",
              "      <td>...</td>\n",
              "      <td>...</td>\n",
              "      <td>...</td>\n",
              "      <td>...</td>\n",
              "      <td>...</td>\n",
              "      <td>...</td>\n",
              "      <td>...</td>\n",
              "      <td>...</td>\n",
              "    </tr>\n",
              "    <tr>\n",
              "      <th>9816</th>\n",
              "      <td>0</td>\n",
              "      <td>0</td>\n",
              "      <td>0</td>\n",
              "      <td>1</td>\n",
              "      <td>0</td>\n",
              "      <td>0</td>\n",
              "      <td>0</td>\n",
              "      <td>0</td>\n",
              "      <td>0</td>\n",
              "      <td>0</td>\n",
              "      <td>...</td>\n",
              "      <td>0</td>\n",
              "      <td>0</td>\n",
              "      <td>0</td>\n",
              "      <td>0</td>\n",
              "      <td>0</td>\n",
              "      <td>0</td>\n",
              "      <td>0</td>\n",
              "      <td>0</td>\n",
              "      <td>0</td>\n",
              "      <td>0</td>\n",
              "    </tr>\n",
              "    <tr>\n",
              "      <th>9817</th>\n",
              "      <td>1</td>\n",
              "      <td>0</td>\n",
              "      <td>0</td>\n",
              "      <td>1</td>\n",
              "      <td>0</td>\n",
              "      <td>0</td>\n",
              "      <td>0</td>\n",
              "      <td>0</td>\n",
              "      <td>0</td>\n",
              "      <td>0</td>\n",
              "      <td>...</td>\n",
              "      <td>0</td>\n",
              "      <td>0</td>\n",
              "      <td>0</td>\n",
              "      <td>1</td>\n",
              "      <td>0</td>\n",
              "      <td>0</td>\n",
              "      <td>0</td>\n",
              "      <td>0</td>\n",
              "      <td>0</td>\n",
              "      <td>0</td>\n",
              "    </tr>\n",
              "    <tr>\n",
              "      <th>9819</th>\n",
              "      <td>0</td>\n",
              "      <td>0</td>\n",
              "      <td>0</td>\n",
              "      <td>1</td>\n",
              "      <td>0</td>\n",
              "      <td>0</td>\n",
              "      <td>0</td>\n",
              "      <td>0</td>\n",
              "      <td>0</td>\n",
              "      <td>0</td>\n",
              "      <td>...</td>\n",
              "      <td>0</td>\n",
              "      <td>0</td>\n",
              "      <td>0</td>\n",
              "      <td>1</td>\n",
              "      <td>0</td>\n",
              "      <td>0</td>\n",
              "      <td>0</td>\n",
              "      <td>1</td>\n",
              "      <td>0</td>\n",
              "      <td>0</td>\n",
              "    </tr>\n",
              "    <tr>\n",
              "      <th>9820</th>\n",
              "      <td>0</td>\n",
              "      <td>0</td>\n",
              "      <td>0</td>\n",
              "      <td>1</td>\n",
              "      <td>0</td>\n",
              "      <td>0</td>\n",
              "      <td>0</td>\n",
              "      <td>0</td>\n",
              "      <td>0</td>\n",
              "      <td>0</td>\n",
              "      <td>...</td>\n",
              "      <td>0</td>\n",
              "      <td>0</td>\n",
              "      <td>0</td>\n",
              "      <td>0</td>\n",
              "      <td>0</td>\n",
              "      <td>0</td>\n",
              "      <td>0</td>\n",
              "      <td>0</td>\n",
              "      <td>0</td>\n",
              "      <td>0</td>\n",
              "    </tr>\n",
              "    <tr>\n",
              "      <th>9821</th>\n",
              "      <td>1</td>\n",
              "      <td>0</td>\n",
              "      <td>0</td>\n",
              "      <td>0</td>\n",
              "      <td>0</td>\n",
              "      <td>0</td>\n",
              "      <td>0</td>\n",
              "      <td>0</td>\n",
              "      <td>0</td>\n",
              "      <td>0</td>\n",
              "      <td>...</td>\n",
              "      <td>0</td>\n",
              "      <td>0</td>\n",
              "      <td>0</td>\n",
              "      <td>1</td>\n",
              "      <td>0</td>\n",
              "      <td>0</td>\n",
              "      <td>0</td>\n",
              "      <td>0</td>\n",
              "      <td>0</td>\n",
              "      <td>0</td>\n",
              "    </tr>\n",
              "  </tbody>\n",
              "</table>\n",
              "<p>9236 rows × 22 columns</p>\n",
              "</div>"
            ],
            "text/plain": [
              "      AWAPART  AWABEDR  AWALAND  APERSAUT  ABESAUT  AMOTSCO  AVRAAUT  \\\n",
              "0           0        0        0         1        0        0        0   \n",
              "1           2        0        0         0        0        0        0   \n",
              "2           1        0        0         1        0        0        0   \n",
              "3           0        0        0         1        0        0        0   \n",
              "4           0        0        0         0        0        0        0   \n",
              "...       ...      ...      ...       ...      ...      ...      ...   \n",
              "9816        0        0        0         1        0        0        0   \n",
              "9817        1        0        0         1        0        0        0   \n",
              "9819        0        0        0         1        0        0        0   \n",
              "9820        0        0        0         1        0        0        0   \n",
              "9821        1        0        0         0        0        0        0   \n",
              "\n",
              "      AAANHANG  ATRACTOR  AWERKT  ...  APERSONG  AGEZONG  AWAOREG  ABRAND  \\\n",
              "0            0         0       0  ...         0        0        0       1   \n",
              "1            0         0       0  ...         0        0        0       1   \n",
              "2            0         0       0  ...         0        0        0       1   \n",
              "3            0         0       0  ...         0        0        0       1   \n",
              "4            0         0       0  ...         0        0        0       1   \n",
              "...        ...       ...     ...  ...       ...      ...      ...     ...   \n",
              "9816         0         0       0  ...         0        0        0       0   \n",
              "9817         0         0       0  ...         0        0        0       1   \n",
              "9819         0         0       0  ...         0        0        0       1   \n",
              "9820         0         0       0  ...         0        0        0       0   \n",
              "9821         0         0       0  ...         0        0        0       1   \n",
              "\n",
              "      AZEILPL  APLEZIER  AFIETS  AINBOED  ABYSTAND  CARAVAN  \n",
              "0           0         0       0        0         0        0  \n",
              "1           0         0       0        0         0        0  \n",
              "2           0         0       0        0         0        0  \n",
              "3           0         0       0        0         0        0  \n",
              "4           0         0       0        0         0        0  \n",
              "...       ...       ...     ...      ...       ...      ...  \n",
              "9816        0         0       0        0         0        0  \n",
              "9817        0         0       0        0         0        0  \n",
              "9819        0         0       0        1         0        0  \n",
              "9820        0         0       0        0         0        0  \n",
              "9821        0         0       0        0         0        0  \n",
              "\n",
              "[9236 rows x 22 columns]"
            ]
          },
          "execution_count": 101,
          "metadata": {},
          "output_type": "execute_result"
        }
      ],
      "source": [
        "data00"
      ]
    },
    {
      "cell_type": "code",
      "execution_count": null,
      "metadata": {
        "id": "B4BClLrnRLBk",
        "outputId": "b0c93a4d-cbf3-40fa-94ad-a8f278f090f4"
      },
      "outputs": [
        {
          "data": {
            "text/plain": [
              "Text(0.5, 1.0, 'AWAPART in CARAVAN = 1')"
            ]
          },
          "execution_count": 102,
          "metadata": {},
          "output_type": "execute_result"
        },
        {
          "data": {
            "image/png": "[encoded data removed]",
            "text/plain": [
              "<Figure size 720x432 with 2 Axes>"
            ]
          },
          "metadata": {
            "needs_background": "light"
          },
          "output_type": "display_data"
        }
      ],
      "source": [
        "#65\n",
        "plt.figure(figsize=(10,6))\n",
        "plt.subplots_adjust(hspace = 0.4)\n",
        "plt.subplot(211)\n",
        "sns.countplot(y=\"AWAPART\", data = data00)\n",
        "plt.title(\"AWAPART in CARAVAN = 0\")\n",
        "plt.subplot(212)\n",
        "sns.countplot(y=\"AWAPART\", data = data11)\n",
        "plt.title(\"AWAPART in CARAVAN = 1\")"
      ]
    },
    {
      "cell_type": "code",
      "execution_count": null,
      "metadata": {
        "id": "NlE82E8nRLBk",
        "outputId": "eed15bb8-a025-4db1-b1a5-10a85feb7449"
      },
      "outputs": [
        {
          "data": {
            "text/plain": [
              "Text(0.5, 1.0, 'AWABEDR in CARAVAN = 1')"
            ]
          },
          "execution_count": 103,
          "metadata": {},
          "output_type": "execute_result"
        },
        {
          "data": {
            "image/png": "[encoded data removed]",
            "text/plain": [
              "<Figure size 720x432 with 2 Axes>"
            ]
          },
          "metadata": {
            "needs_background": "light"
          },
          "output_type": "display_data"
        }
      ],
      "source": [
        "#66\n",
        "plt.figure(figsize=(10,6))\n",
        "plt.subplots_adjust(hspace = 0.4)\n",
        "plt.subplot(211)\n",
        "sns.countplot(y=\"AWABEDR\", data = data00)\n",
        "plt.title(\"AWABEDR in CARAVAN = 0\")\n",
        "plt.subplot(212)\n",
        "sns.countplot(y=\"AWABEDR\", data = data11)\n",
        "plt.title(\"AWABEDR in CARAVAN = 1\")"
      ]
    },
    {
      "cell_type": "code",
      "execution_count": null,
      "metadata": {
        "id": "UFORyDsxRLBl",
        "outputId": "00033de1-c5cd-49e3-d71a-1fcfb0f67de0"
      },
      "outputs": [
        {
          "data": {
            "text/plain": [
              "Text(0.5, 1.0, 'AWALAND in CARAVAN = 1')"
            ]
          },
          "execution_count": 104,
          "metadata": {},
          "output_type": "execute_result"
        },
        {
          "data": {
            "image/png": "[encoded data removed]",
            "text/plain": [
              "<Figure size 720x432 with 2 Axes>"
            ]
          },
          "metadata": {
            "needs_background": "light"
          },
          "output_type": "display_data"
        }
      ],
      "source": [
        "#67\n",
        "plt.figure(figsize=(10,6))\n",
        "plt.subplots_adjust(hspace = 0.4)\n",
        "plt.subplot(211)\n",
        "sns.countplot(y=\"AWALAND\", data = data00)\n",
        "plt.title(\"AWALAND in CARAVAN = 0\")\n",
        "plt.subplot(212)\n",
        "sns.countplot(y=\"AWALAND\", data = data11)\n",
        "plt.title(\"AWALAND in CARAVAN = 1\")"
      ]
    },
    {
      "cell_type": "code",
      "execution_count": null,
      "metadata": {
        "id": "R7TRM1FWRLBl",
        "outputId": "bfecbfa5-6f03-4772-e98f-dd2bf2cc7c3c"
      },
      "outputs": [
        {
          "data": {
            "text/plain": [
              "Text(0.5, 1.0, 'APERSAUT in CARAVAN = 1')"
            ]
          },
          "execution_count": 105,
          "metadata": {},
          "output_type": "execute_result"
        },
        {
          "data": {
            "image/png": "[encoded data removed]",
            "text/plain": [
              "<Figure size 720x432 with 2 Axes>"
            ]
          },
          "metadata": {
            "needs_background": "light"
          },
          "output_type": "display_data"
        }
      ],
      "source": [
        "#68\n",
        "plt.figure(figsize=(10,6))\n",
        "plt.subplots_adjust(hspace = 0.4)\n",
        "plt.subplot(211)\n",
        "sns.countplot(y=\"APERSAUT\", data = data00)\n",
        "plt.title(\"APERSAUT in CARAVAN = 0\")\n",
        "plt.subplot(212)\n",
        "sns.countplot(y=\"APERSAUT\", data = data11)\n",
        "plt.title(\"APERSAUT in CARAVAN = 1\")"
      ]
    },
    {
      "cell_type": "code",
      "execution_count": null,
      "metadata": {
        "id": "o8JQHovzRLBl",
        "outputId": "0c4f1785-f68b-4b67-dbf7-bf7ee475df5b"
      },
      "outputs": [
        {
          "data": {
            "text/plain": [
              "Text(0.5, 1.0, 'ABESAUT in CARAVAN = 1')"
            ]
          },
          "execution_count": 106,
          "metadata": {},
          "output_type": "execute_result"
        },
        {
          "data": {
            "image/png": "[encoded data removed]",
            "text/plain": [
              "<Figure size 720x432 with 2 Axes>"
            ]
          },
          "metadata": {
            "needs_background": "light"
          },
          "output_type": "display_data"
        }
      ],
      "source": [
        "#69\n",
        "plt.figure(figsize=(10,6))\n",
        "plt.subplots_adjust(hspace = 0.4)\n",
        "plt.subplot(211)\n",
        "sns.countplot(y=\"ABESAUT\", data = data00)\n",
        "plt.title(\"ABESAUT in CARAVAN = 0\")\n",
        "plt.subplot(212)\n",
        "sns.countplot(y=\"ABESAUT\", data = data11)\n",
        "plt.title(\"ABESAUT in CARAVAN = 1\")"
      ]
    },
    {
      "cell_type": "code",
      "execution_count": null,
      "metadata": {
        "id": "0ZRAnkzNRLBm",
        "outputId": "a7448d41-2531-4678-db0c-46610aeaa2c9"
      },
      "outputs": [
        {
          "data": {
            "text/plain": [
              "Text(0.5, 1.0, 'AMOTSCO in CARAVAN = 1')"
            ]
          },
          "execution_count": 107,
          "metadata": {},
          "output_type": "execute_result"
        },
        {
          "data": {
            "image/png": "[encoded data removed]",
            "text/plain": [
              "<Figure size 720x432 with 2 Axes>"
            ]
          },
          "metadata": {
            "needs_background": "light"
          },
          "output_type": "display_data"
        }
      ],
      "source": [
        "#70\n",
        "plt.figure(figsize=(10,6))\n",
        "plt.subplots_adjust(hspace = 0.4)\n",
        "plt.subplot(211)\n",
        "sns.countplot(y=\"AMOTSCO\", data = data00)\n",
        "plt.title(\"AMOTSCO in CARAVAN = 0\")\n",
        "plt.subplot(212)\n",
        "sns.countplot(y=\"AMOTSCO\", data = data11)\n",
        "plt.title(\"AMOTSCO in CARAVAN = 1\")"
      ]
    },
    {
      "cell_type": "code",
      "execution_count": null,
      "metadata": {
        "id": "bY2-RrAGRLBm",
        "outputId": "09f953be-5c33-404f-e4d7-378b843cd403"
      },
      "outputs": [
        {
          "data": {
            "text/plain": [
              "Text(0.5, 1.0, 'AVRAAUT in CARAVAN = 1')"
            ]
          },
          "execution_count": 108,
          "metadata": {},
          "output_type": "execute_result"
        },
        {
          "data": {
            "image/png": "[encoded data removed]",
            "text/plain": [
              "<Figure size 720x432 with 2 Axes>"
            ]
          },
          "metadata": {
            "needs_background": "light"
          },
          "output_type": "display_data"
        }
      ],
      "source": [
        "#71\n",
        "plt.figure(figsize=(10,6))\n",
        "plt.subplots_adjust(hspace = 0.4)\n",
        "plt.subplot(211)\n",
        "sns.countplot(y=\"AVRAAUT\", data = data00)\n",
        "plt.title(\"AVRAAUT in CARAVAN = 0\")\n",
        "plt.subplot(212)\n",
        "sns.countplot(y=\"AVRAAUT\", data = data11)\n",
        "plt.title(\"AVRAAUT in CARAVAN = 1\")"
      ]
    },
    {
      "cell_type": "code",
      "execution_count": null,
      "metadata": {
        "id": "3qGYHMMjRLBn",
        "outputId": "2abcf8c0-671d-4eba-acea-133c9430ae1c"
      },
      "outputs": [
        {
          "data": {
            "text/plain": [
              "Text(0.5, 1.0, 'AAANHANG in CARAVAN = 1')"
            ]
          },
          "execution_count": 109,
          "metadata": {},
          "output_type": "execute_result"
        },
        {
          "data": {
            "image/png": "[encoded data removed]",
            "text/plain": [
              "<Figure size 720x432 with 2 Axes>"
            ]
          },
          "metadata": {
            "needs_background": "light"
          },
          "output_type": "display_data"
        }
      ],
      "source": [
        "#72\n",
        "plt.figure(figsize=(10,6))\n",
        "plt.subplots_adjust(hspace = 0.4)\n",
        "plt.subplot(211)\n",
        "sns.countplot(y=\"AAANHANG\", data = data00)\n",
        "plt.title(\"AAANHANG in CARAVAN = 0\")\n",
        "plt.subplot(212)\n",
        "sns.countplot(y=\"AAANHANG\", data = data11)\n",
        "plt.title(\"AAANHANG in CARAVAN = 1\")"
      ]
    },
    {
      "cell_type": "code",
      "execution_count": null,
      "metadata": {
        "id": "EuLDHOYlRLBn",
        "outputId": "30d83699-753a-46f7-ac27-b216dadf11fc"
      },
      "outputs": [
        {
          "data": {
            "text/plain": [
              "Text(0.5, 1.0, 'ATRACTOR in CARAVAN = 1')"
            ]
          },
          "execution_count": 110,
          "metadata": {},
          "output_type": "execute_result"
        },
        {
          "data": {
            "image/png": "[encoded data removed]",
            "text/plain": [
              "<Figure size 720x432 with 2 Axes>"
            ]
          },
          "metadata": {
            "needs_background": "light"
          },
          "output_type": "display_data"
        }
      ],
      "source": [
        "#73\n",
        "plt.figure(figsize=(10,6))\n",
        "plt.subplots_adjust(hspace = 0.4)\n",
        "plt.subplot(211)\n",
        "sns.countplot(y=\"ATRACTOR\", data = data00)\n",
        "plt.title(\"ATRACTOR in CARAVAN = 0\")\n",
        "plt.subplot(212)\n",
        "sns.countplot(y=\"ATRACTOR\", data = data11)\n",
        "plt.title(\"ATRACTOR in CARAVAN = 1\")"
      ]
    },
    {
      "cell_type": "code",
      "execution_count": null,
      "metadata": {
        "id": "gBPY9ywMRLBo",
        "outputId": "38149fd5-86ff-4a39-9e8e-3515dc7fbbd6"
      },
      "outputs": [
        {
          "data": {
            "text/plain": [
              "Text(0.5, 1.0, 'AWERKT in CARAVAN = 1')"
            ]
          },
          "execution_count": 111,
          "metadata": {},
          "output_type": "execute_result"
        },
        {
          "data": {
            "image/png": "[encoded data removed]",
            "text/plain": [
              "<Figure size 720x432 with 2 Axes>"
            ]
          },
          "metadata": {
            "needs_background": "light"
          },
          "output_type": "display_data"
        }
      ],
      "source": [
        "#74\n",
        "plt.figure(figsize=(10,6))\n",
        "plt.subplots_adjust(hspace = 0.4)\n",
        "plt.subplot(211)\n",
        "sns.countplot(y=\"AWERKT\", data = data00)\n",
        "plt.title(\"AWERKT in CARAVAN = 0\")\n",
        "plt.subplot(212)\n",
        "sns.countplot(y=\"AWERKT\", data = data11)\n",
        "plt.title(\"AWERKT in CARAVAN = 1\")"
      ]
    },
    {
      "cell_type": "code",
      "execution_count": null,
      "metadata": {
        "id": "llLbY6JkRLBo",
        "outputId": "788a4d28-9284-41a8-dc4a-32998135ed4a"
      },
      "outputs": [
        {
          "data": {
            "text/plain": [
              "Text(0.5, 1.0, 'ABROM in CARAVAN = 1')"
            ]
          },
          "execution_count": 112,
          "metadata": {},
          "output_type": "execute_result"
        },
        {
          "data": {
            "image/png": "[encoded data removed]",
            "text/plain": [
              "<Figure size 720x432 with 2 Axes>"
            ]
          },
          "metadata": {
            "needs_background": "light"
          },
          "output_type": "display_data"
        }
      ],
      "source": [
        "#75\n",
        "plt.figure(figsize=(10,6))\n",
        "plt.subplots_adjust(hspace = 0.4)\n",
        "plt.subplot(211)\n",
        "sns.countplot(y=\"ABROM\", data = data00)\n",
        "plt.title(\"ABROM in CARAVAN = 0\")\n",
        "plt.subplot(212)\n",
        "sns.countplot(y=\"ABROM\", data = data11)\n",
        "plt.title(\"ABROM in CARAVAN = 1\")"
      ]
    },
    {
      "cell_type": "code",
      "execution_count": null,
      "metadata": {
        "id": "srNiJg1pRLBp",
        "outputId": "5d48f8f5-a974-408c-f6f1-78300afc414a"
      },
      "outputs": [
        {
          "data": {
            "text/plain": [
              "Text(0.5, 1.0, 'ALEVEN in CARAVAN = 1')"
            ]
          },
          "execution_count": 113,
          "metadata": {},
          "output_type": "execute_result"
        },
        {
          "data": {
            "image/png": "[encoded data removed]",
            "text/plain": [
              "<Figure size 720x432 with 2 Axes>"
            ]
          },
          "metadata": {
            "needs_background": "light"
          },
          "output_type": "display_data"
        }
      ],
      "source": [
        "#76\n",
        "plt.figure(figsize=(10,6))\n",
        "plt.subplots_adjust(hspace = 0.4)\n",
        "plt.subplot(211)\n",
        "sns.countplot(y=\"ALEVEN\", data = data00)\n",
        "plt.title(\"ALEVEN in CARAVAN = 0\")\n",
        "plt.subplot(212)\n",
        "sns.countplot(y=\"ALEVEN\", data = data11)\n",
        "plt.title(\"ALEVEN in CARAVAN = 1\")"
      ]
    },
    {
      "cell_type": "code",
      "execution_count": null,
      "metadata": {
        "id": "Tbyhr3nDRLBp",
        "outputId": "0792bf97-67b2-4f6b-b572-b911964c14a0"
      },
      "outputs": [
        {
          "data": {
            "text/plain": [
              "Text(0.5, 1.0, 'APERSONG in CARAVAN = 1')"
            ]
          },
          "execution_count": 114,
          "metadata": {},
          "output_type": "execute_result"
        },
        {
          "data": {
            "image/png": "[encoded data removed]",
            "text/plain": [
              "<Figure size 720x432 with 2 Axes>"
            ]
          },
          "metadata": {
            "needs_background": "light"
          },
          "output_type": "display_data"
        }
      ],
      "source": [
        "#77\n",
        "plt.figure(figsize=(10,6))\n",
        "plt.subplots_adjust(hspace = 0.4)\n",
        "plt.subplot(211)\n",
        "sns.countplot(y=\"APERSONG\", data = data00)\n",
        "plt.title(\"APERSONG in CARAVAN = 0\")\n",
        "plt.subplot(212)\n",
        "sns.countplot(y=\"APERSONG\", data = data11)\n",
        "plt.title(\"APERSONG in CARAVAN = 1\")"
      ]
    },
    {
      "cell_type": "code",
      "execution_count": null,
      "metadata": {
        "id": "rzXAX-CuRLBp",
        "outputId": "3f731d11-5feb-46b7-efc4-ccc7142001c5"
      },
      "outputs": [
        {
          "data": {
            "text/plain": [
              "Text(0.5, 1.0, 'AGEZONG in CARAVAN = 1')"
            ]
          },
          "execution_count": 115,
          "metadata": {},
          "output_type": "execute_result"
        },
        {
          "data": {
            "image/png": "[encoded data removed]",
            "text/plain": [
              "<Figure size 720x432 with 2 Axes>"
            ]
          },
          "metadata": {
            "needs_background": "light"
          },
          "output_type": "display_data"
        }
      ],
      "source": [
        "#78\n",
        "plt.figure(figsize=(10,6))\n",
        "plt.subplots_adjust(hspace = 0.4)\n",
        "plt.subplot(211)\n",
        "sns.countplot(y=\"AGEZONG\", data = data00)\n",
        "plt.title(\"AGEZONG in CARAVAN = 0\")\n",
        "plt.subplot(212)\n",
        "sns.countplot(y=\"AGEZONG\", data = data11)\n",
        "plt.title(\"AGEZONG in CARAVAN = 1\")"
      ]
    },
    {
      "cell_type": "code",
      "execution_count": null,
      "metadata": {
        "id": "WeNNEVJlRLBp",
        "outputId": "6c60d707-ef19-42bf-87d8-aba94092dca6"
      },
      "outputs": [
        {
          "data": {
            "text/plain": [
              "Text(0.5, 1.0, 'AWAOREG in CARAVAN = 1')"
            ]
          },
          "execution_count": 116,
          "metadata": {},
          "output_type": "execute_result"
        },
        {
          "data": {
            "image/png": "[encoded data removed]",
            "text/plain": [
              "<Figure size 720x432 with 2 Axes>"
            ]
          },
          "metadata": {
            "needs_background": "light"
          },
          "output_type": "display_data"
        }
      ],
      "source": [
        "#79\n",
        "plt.figure(figsize=(10,6))\n",
        "plt.subplots_adjust(hspace = 0.4)\n",
        "plt.subplot(211)\n",
        "sns.countplot(y=\"AWAOREG\", data = data00)\n",
        "plt.title(\"AWAOREG in CARAVAN = 0\")\n",
        "plt.subplot(212)\n",
        "sns.countplot(y=\"AWAOREG\", data = data11)\n",
        "plt.title(\"AWAOREG in CARAVAN = 1\")"
      ]
    },
    {
      "cell_type": "code",
      "execution_count": null,
      "metadata": {
        "id": "iqX7BnegRLBq",
        "outputId": "14da82e5-52f6-4fab-c489-ef0e4fdadba5"
      },
      "outputs": [
        {
          "data": {
            "text/plain": [
              "Text(0.5, 1.0, 'ABRAND in CARAVAN = 1')"
            ]
          },
          "execution_count": 117,
          "metadata": {},
          "output_type": "execute_result"
        },
        {
          "data": {
            "image/png": "[encoded data removed]",
            "text/plain": [
              "<Figure size 720x432 with 2 Axes>"
            ]
          },
          "metadata": {
            "needs_background": "light"
          },
          "output_type": "display_data"
        }
      ],
      "source": [
        "#80\n",
        "plt.figure(figsize=(10,6))\n",
        "plt.subplots_adjust(hspace = 0.4)\n",
        "plt.subplot(211)\n",
        "sns.countplot(y=\"ABRAND\", data = data00)\n",
        "plt.title(\"ABRAND in CARAVAN = 0\")\n",
        "plt.subplot(212)\n",
        "sns.countplot(y=\"ABRAND\", data = data11)\n",
        "plt.title(\"ABRAND in CARAVAN = 1\")"
      ]
    },
    {
      "cell_type": "code",
      "execution_count": null,
      "metadata": {
        "id": "GYfcniw7RLBq",
        "outputId": "07aa9a43-9353-4d25-fceb-948f66fc9240"
      },
      "outputs": [
        {
          "data": {
            "text/plain": [
              "Text(0.5, 1.0, 'AZEILPL in CARAVAN = 1')"
            ]
          },
          "execution_count": 118,
          "metadata": {},
          "output_type": "execute_result"
        },
        {
          "data": {
            "image/png": "[encoded data removed]",
            "text/plain": [
              "<Figure size 720x432 with 2 Axes>"
            ]
          },
          "metadata": {
            "needs_background": "light"
          },
          "output_type": "display_data"
        }
      ],
      "source": [
        "#81\n",
        "plt.figure(figsize=(10,6))\n",
        "plt.subplots_adjust(hspace = 0.4)\n",
        "plt.subplot(211)\n",
        "sns.countplot(y=\"AZEILPL\", data = data00)\n",
        "plt.title(\"AZEILPL in CARAVAN = 0\")\n",
        "plt.subplot(212)\n",
        "sns.countplot(y=\"AZEILPL\", data = data11)\n",
        "plt.title(\"AZEILPL in CARAVAN = 1\")"
      ]
    },
    {
      "cell_type": "code",
      "execution_count": null,
      "metadata": {
        "id": "aKnSaKhdRLBr",
        "outputId": "2b6cf58f-3ed5-43cf-b511-408f6499b31a"
      },
      "outputs": [
        {
          "data": {
            "text/plain": [
              "Text(0.5, 1.0, 'APLEZIER in CARAVAN = 1')"
            ]
          },
          "execution_count": 119,
          "metadata": {},
          "output_type": "execute_result"
        },
        {
          "data": {
            "image/png": "[encoded data removed]",
            "text/plain": [
              "<Figure size 720x432 with 2 Axes>"
            ]
          },
          "metadata": {
            "needs_background": "light"
          },
          "output_type": "display_data"
        }
      ],
      "source": [
        "#82\n",
        "plt.figure(figsize=(10,6))\n",
        "plt.subplots_adjust(hspace = 0.4)\n",
        "plt.subplot(211)\n",
        "sns.countplot(y=\"APLEZIER\", data = data00)\n",
        "plt.title(\"APLEZIER in CARAVAN = 0\")\n",
        "plt.subplot(212)\n",
        "sns.countplot(y=\"APLEZIER\", data = data11)\n",
        "plt.title(\"APLEZIER in CARAVAN = 1\")"
      ]
    },
    {
      "cell_type": "code",
      "execution_count": null,
      "metadata": {
        "id": "htRVDGX4RLBr",
        "outputId": "0820cb65-dedf-45de-b206-4fa0fbf18285"
      },
      "outputs": [
        {
          "data": {
            "text/plain": [
              "Text(0.5, 1.0, 'AFIETS in CARAVAN = 1')"
            ]
          },
          "execution_count": 120,
          "metadata": {},
          "output_type": "execute_result"
        },
        {
          "data": {
            "image/png": "[encoded data removed]",
            "text/plain": [
              "<Figure size 720x432 with 2 Axes>"
            ]
          },
          "metadata": {
            "needs_background": "light"
          },
          "output_type": "display_data"
        }
      ],
      "source": [
        "#83\n",
        "plt.figure(figsize=(10,6))\n",
        "plt.subplots_adjust(hspace = 0.4)\n",
        "plt.subplot(211)\n",
        "sns.countplot(y=\"AFIETS\", data = data00)\n",
        "plt.title(\"AFIETS in CARAVAN = 0\")\n",
        "plt.subplot(212)\n",
        "sns.countplot(y=\"AFIETS\", data = data11)\n",
        "plt.title(\"AFIETS in CARAVAN = 1\")"
      ]
    },
    {
      "cell_type": "code",
      "execution_count": null,
      "metadata": {
        "id": "cgJ1FS-cRLBs",
        "outputId": "c3fc8fd0-ac7c-4d39-b70d-7046193f6ce7"
      },
      "outputs": [
        {
          "data": {
            "text/plain": [
              "Text(0.5, 1.0, 'AFIETS in CARAVAN = 1')"
            ]
          },
          "execution_count": 121,
          "metadata": {},
          "output_type": "execute_result"
        },
        {
          "data": {
            "image/png": "[encoded data removed]",
            "text/plain": [
              "<Figure size 720x432 with 2 Axes>"
            ]
          },
          "metadata": {
            "needs_background": "light"
          },
          "output_type": "display_data"
        }
      ],
      "source": [
        "#84\n",
        "plt.figure(figsize=(10,6))\n",
        "plt.subplots_adjust(hspace = 0.4)\n",
        "plt.subplot(211)\n",
        "sns.countplot(y=\"AFIETS\", data = data00)\n",
        "plt.title(\"AFIETS in CARAVAN = 0\")\n",
        "plt.subplot(212)\n",
        "sns.countplot(y=\"AFIETS\", data = data11)\n",
        "plt.title(\"AFIETS in CARAVAN = 1\")"
      ]
    },
    {
      "cell_type": "code",
      "execution_count": null,
      "metadata": {
        "id": "YrLsMDeVRLBu",
        "outputId": "864d2e88-a5fa-4bb0-f49f-7e990169f99a"
      },
      "outputs": [
        {
          "data": {
            "text/plain": [
              "Text(0.5, 1.0, 'ABYSTAND in CARAVAN = 1')"
            ]
          },
          "execution_count": 122,
          "metadata": {},
          "output_type": "execute_result"
        },
        {
          "data": {
            "image/png": "[encoded data removed]",
            "text/plain": [
              "<Figure size 720x432 with 2 Axes>"
            ]
          },
          "metadata": {
            "needs_background": "light"
          },
          "output_type": "display_data"
        }
      ],
      "source": [
        "#85\n",
        "plt.figure(figsize=(10,6))\n",
        "plt.subplots_adjust(hspace = 0.4)\n",
        "plt.subplot(211)\n",
        "sns.countplot(y=\"ABYSTAND\", data = data00)\n",
        "plt.title(\"ABYSTAND in CARAVAN = 0\")\n",
        "plt.subplot(212)\n",
        "sns.countplot(y=\"ABYSTAND\", data = data11)\n",
        "plt.title(\"ABYSTAND in CARAVAN = 1\")"
      ]
    },
    {
      "cell_type": "code",
      "execution_count": null,
      "metadata": {
        "id": "ACp-9OG6RLBu"
      },
      "outputs": [],
      "source": [
        "plt.figure(figsize=(15,15))\n",
        "sns.heatmap(data = data.corr(), annot=True, \n",
        "fmt = '.2f', linewidths=.5, cmap='Blues')"
      ]
    },
    {
      "cell_type": "code",
      "execution_count": null,
      "metadata": {
        "id": "wQx2mpEgRLBv",
        "outputId": "88265249-51c5-4a43-96bc-6a4c424484c0"
      },
      "outputs": [
        {
          "ename": "NameError",
          "evalue": "name 'data' is not defined",
          "output_type": "error",
          "traceback": [
            "\u001b[1;31m---------------------------------------------------------------------------\u001b[0m",
            "\u001b[1;31mNameError\u001b[0m                                 Traceback (most recent call last)",
            "\u001b[1;32m<ipython-input-1-c44ded798807>\u001b[0m in \u001b[0;36m<module>\u001b[1;34m\u001b[0m\n\u001b[1;32m----> 1\u001b[1;33m \u001b[0mdata\u001b[0m\u001b[1;33m.\u001b[0m\u001b[0mcorr\u001b[0m\u001b[1;33m(\u001b[0m\u001b[1;33m)\u001b[0m\u001b[1;33m\u001b[0m\u001b[1;33m\u001b[0m\u001b[0m\n\u001b[0m",
            "\u001b[1;31mNameError\u001b[0m: name 'data' is not defined"
          ]
        }
      ],
      "source": [
        "data.corr()"
      ]
    },
    {
      "cell_type": "code",
      "execution_count": null,
      "metadata": {
        "id": "UWwMd-pTRLBv"
      },
      "outputs": [],
      "source": [
        "#sns.barplot(x = \"PWALAND\", y = \"CARAVAN\", data = data45, ci = None)\n",
        "#sns.countplot(y=\"PWAPART\", data = data1)"
      ]
    },
    {
      "cell_type": "code",
      "execution_count": null,
      "metadata": {
        "id": "IMLxTYf8RLBv"
      },
      "outputs": [],
      "source": [
        ""
      ]
    }
  ],
  "metadata": {
    "kernelspec": {
      "display_name": "Python 3",
      "language": "python",
      "name": "python3"
    },
    "language_info": {
      "codemirror_mode": {
        "name": "ipython",
        "version": 3
      },
      "file_extension": ".py",
      "mimetype": "text/x-python",
      "name": "python",
      "nbconvert_exporter": "python",
      "pygments_lexer": "ipython3",
      "version": "3.8.5"
    },
    "colab": {
      "name": "EDA_박지원.ipynb",
      "provenance": []
    }
  },
  "nbformat": 4,
  "nbformat_minor": 0
}
