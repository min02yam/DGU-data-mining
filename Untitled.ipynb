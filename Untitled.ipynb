{
  "cells": [
    {
      "cell_type": "code",
      "execution_count": null,
      "metadata": {
        "id": "2kCBVmggRgjK"
      },
      "outputs": [],
      "source": [
        "import pandas as pd\n",
        "import numpy as np\n",
        "import seaborn as sns"
      ]
    },
    {
      "cell_type": "code",
      "execution_count": null,
      "metadata": {
        "id": "z2TnwX-JRgjO"
      },
      "outputs": [],
      "source": [
        "tic2000=pd.read_csv(\"tic2000.csv\")"
      ]
    },
    {
      "cell_type": "code",
      "execution_count": null,
      "metadata": {
        "id": "ZdKPQd0eRgjR"
      },
      "outputs": [],
      "source": [
        "caravan0=tic2000[tic2000[\"CARAVAN\"] == 0]\n",
        "caravan1=tic2000[tic2000[\"CARAVAN\"] == 1]"
      ]
    },
    {
      "cell_type": "code",
      "execution_count": null,
      "metadata": {
        "id": "iFhXJp3_RgjT"
      },
      "outputs": [],
      "source": [
        "ln=len(caravan1)"
      ]
    },
    {
      "cell_type": "markdown",
      "metadata": {
        "id": "TVVIa-GxRgjU"
      },
      "source": [
        "* WEIGHT X"
      ]
    },
    {
      "cell_type": "code",
      "execution_count": null,
      "metadata": {
        "id": "uj7ZvL-RRgjv"
      },
      "outputs": [],
      "source": [
        "car0smp=caravan0.sample(n=ln, random_state=2021 )"
      ]
    },
    {
      "cell_type": "code",
      "execution_count": null,
      "metadata": {
        "id": "gHSAm_g_Rgjx",
        "outputId": "305579e0-0b41-4522-be8a-171af3713bda"
      },
      "outputs": [
        {
          "data": {
            "text/plain": [
              "(586, 86)"
            ]
          },
          "execution_count": 22,
          "metadata": {},
          "output_type": "execute_result"
        }
      ],
      "source": [
        "car0smp.shape"
      ]
    },
    {
      "cell_type": "code",
      "execution_count": null,
      "metadata": {
        "id": "XzZT0pYpRgj2"
      },
      "outputs": [],
      "source": [
        "final=pd.concat([ car0smp,caravan1  ],axis=0, ignore_index=True)"
      ]
    },
    {
      "cell_type": "code",
      "execution_count": null,
      "metadata": {
        "id": "eOnJ5gJWRgj5"
      },
      "outputs": [],
      "source": [
        "final.to_csv(\"final.csv\", index=False)"
      ]
    }
  ],
  "metadata": {
    "kernelspec": {
      "display_name": "Python 3",
      "language": "python",
      "name": "python3"
    },
    "language_info": {
      "codemirror_mode": {
        "name": "ipython",
        "version": 3
      },
      "file_extension": ".py",
      "mimetype": "text/x-python",
      "name": "python",
      "nbconvert_exporter": "python",
      "pygments_lexer": "ipython3",
      "version": "3.8.5"
    },
    "toc": {
      "base_numbering": 1,
      "nav_menu": {},
      "number_sections": true,
      "sideBar": true,
      "skip_h1_title": false,
      "title_cell": "Table of Contents",
      "title_sidebar": "Contents",
      "toc_cell": false,
      "toc_position": {},
      "toc_section_display": true,
      "toc_window_display": false
    },
    "colab": {
      "name": "Untitled.ipynb",
      "provenance": []
    }
  },
  "nbformat": 4,
  "nbformat_minor": 0
}