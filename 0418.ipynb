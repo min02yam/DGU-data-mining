{
  "cells": [
    {
      "cell_type": "code",
      "execution_count": null,
      "metadata": {
        "id": "Bo8_YOBWKS9Y",
        "outputId": "d59b7bb5-0409-4701-98c5-458bf0f1cc4c"
      },
      "outputs": [
        {
          "name": "stderr",
          "output_type": "stream",
          "text": [
            "지정된 파일을 찾을 수 없습니다.\n",
            "지정된 파일을 찾을 수 없습니다.\n",
            "지정된 파일을 찾을 수 없습니다.\n"
          ]
        }
      ],
      "source": [
        "!move \"C:\\Users\\alsdu\\Downloads\\ticdata2000.txt\" .\n",
        "!move \"C:\\Users\\alsdu\\Downloads\\ticeval2000.txt\" .\n",
        "!move \"C:\\Users\\alsdu\\Downloads\\tictgts2000.txt\" ."
      ]
    },
    {
      "cell_type": "code",
      "execution_count": null,
      "metadata": {
        "id": "PCAPQcqdKS9l"
      },
      "outputs": [],
      "source": [
        "import pandas as pd\n",
        "import numpy as np\n",
        "import seaborn as sns\n"
      ]
    },
    {
      "cell_type": "code",
      "source": [
        ""
      ],
      "metadata": {
        "id": "xkOr6DFuLdP_"
      },
      "execution_count": null,
      "outputs": []
    },
    {
      "cell_type": "code",
      "execution_count": null,
      "metadata": {
        "id": "WuKy5lLGKS9m",
        "outputId": "146c6ffa-f1cc-445f-8996-5a4fbb449322"
      },
      "outputs": [
        {
          "name": "stdout",
          "output_type": "stream",
          "text": [
            " C 드라이브의 볼륨에는 이름이 없습니다.\n",
            " 볼륨 일련 번호: F6BC-EBBB\n",
            "\n",
            " C:\\Users\\alsdu\\data_mining 디렉터리\n",
            "\n",
            "2021-04-23  오후 12:43    <DIR>          .\n",
            "2021-04-23  오후 12:43    <DIR>          ..\n",
            "2021-04-23  오전 09:52    <DIR>          .ipynb_checkpoints\n",
            "2021-04-23  오후 12:43             4,717 0418.ipynb\n",
            "2021-04-23  오전 09:52            22,585 0418-Copy1.ipynb\n",
            "2000-03-10  오후 12:10         1,011,973 ticdata2000.txt\n",
            "2000-03-10  오후 12:11           687,304 ticeval2000.txt\n",
            "2000-03-10  오후 01:12            12,000 tictgts2000.txt\n",
            "               5개 파일           1,738,579 바이트\n",
            "               3개 디렉터리  48,009,281,536 바이트 남음\n"
          ]
        }
      ],
      "source": [
        "%ls"
      ]
    },
    {
      "cell_type": "code",
      "execution_count": null,
      "metadata": {
        "scrolled": true,
        "id": "NyQPl1JpKS9o"
      },
      "outputs": [],
      "source": [
        "ticdata=pd.read_table(\"ticdata2000.txt\",sep='\\t' ,header =None )\n",
        "ticeval=pd.read_table(\"ticeval2000.txt\",sep='\\t' ,header =None )\n",
        "tictgts=pd.read_table(\"tictgts2000.txt\",sep='\\t' ,header =None )"
      ]
    },
    {
      "cell_type": "code",
      "execution_count": null,
      "metadata": {
        "id": "o7I7GZ1OKS9q",
        "outputId": "3f9fa675-8fc8-4ac4-a911-dbf0ec57f5f2"
      },
      "outputs": [
        {
          "data": {
            "text/plain": [
              "((5822, 86), (4000, 85), (4000, 1))"
            ]
          },
          "execution_count": 8,
          "metadata": {},
          "output_type": "execute_result"
        }
      ],
      "source": [
        "ticdata.shape , ticeval.shape ,  tictgts.shape"
      ]
    },
    {
      "cell_type": "code",
      "execution_count": null,
      "metadata": {
        "id": "5-Z3GEvrKS9s",
        "outputId": "0c217501-71f9-4113-8273-664442198d30"
      },
      "outputs": [
        {
          "name": "stdout",
          "output_type": "stream",
          "text": [
            "<class 'pandas.core.frame.DataFrame'>\n",
            "RangeIndex: 4000 entries, 0 to 3999\n",
            "Data columns (total 85 columns):\n",
            " #   Column  Non-Null Count  Dtype\n",
            "---  ------  --------------  -----\n",
            " 0   0       4000 non-null   int64\n",
            " 1   1       4000 non-null   int64\n",
            " 2   2       4000 non-null   int64\n",
            " 3   3       4000 non-null   int64\n",
            " 4   4       4000 non-null   int64\n",
            " 5   5       4000 non-null   int64\n",
            " 6   6       4000 non-null   int64\n",
            " 7   7       4000 non-null   int64\n",
            " 8   8       4000 non-null   int64\n",
            " 9   9       4000 non-null   int64\n",
            " 10  10      4000 non-null   int64\n",
            " 11  11      4000 non-null   int64\n",
            " 12  12      4000 non-null   int64\n",
            " 13  13      4000 non-null   int64\n",
            " 14  14      4000 non-null   int64\n",
            " 15  15      4000 non-null   int64\n",
            " 16  16      4000 non-null   int64\n",
            " 17  17      4000 non-null   int64\n",
            " 18  18      4000 non-null   int64\n",
            " 19  19      4000 non-null   int64\n",
            " 20  20      4000 non-null   int64\n",
            " 21  21      4000 non-null   int64\n",
            " 22  22      4000 non-null   int64\n",
            " 23  23      4000 non-null   int64\n",
            " 24  24      4000 non-null   int64\n",
            " 25  25      4000 non-null   int64\n",
            " 26  26      4000 non-null   int64\n",
            " 27  27      4000 non-null   int64\n",
            " 28  28      4000 non-null   int64\n",
            " 29  29      4000 non-null   int64\n",
            " 30  30      4000 non-null   int64\n",
            " 31  31      4000 non-null   int64\n",
            " 32  32      4000 non-null   int64\n",
            " 33  33      4000 non-null   int64\n",
            " 34  34      4000 non-null   int64\n",
            " 35  35      4000 non-null   int64\n",
            " 36  36      4000 non-null   int64\n",
            " 37  37      4000 non-null   int64\n",
            " 38  38      4000 non-null   int64\n",
            " 39  39      4000 non-null   int64\n",
            " 40  40      4000 non-null   int64\n",
            " 41  41      4000 non-null   int64\n",
            " 42  42      4000 non-null   int64\n",
            " 43  43      4000 non-null   int64\n",
            " 44  44      4000 non-null   int64\n",
            " 45  45      4000 non-null   int64\n",
            " 46  46      4000 non-null   int64\n",
            " 47  47      4000 non-null   int64\n",
            " 48  48      4000 non-null   int64\n",
            " 49  49      4000 non-null   int64\n",
            " 50  50      4000 non-null   int64\n",
            " 51  51      4000 non-null   int64\n",
            " 52  52      4000 non-null   int64\n",
            " 53  53      4000 non-null   int64\n",
            " 54  54      4000 non-null   int64\n",
            " 55  55      4000 non-null   int64\n",
            " 56  56      4000 non-null   int64\n",
            " 57  57      4000 non-null   int64\n",
            " 58  58      4000 non-null   int64\n",
            " 59  59      4000 non-null   int64\n",
            " 60  60      4000 non-null   int64\n",
            " 61  61      4000 non-null   int64\n",
            " 62  62      4000 non-null   int64\n",
            " 63  63      4000 non-null   int64\n",
            " 64  64      4000 non-null   int64\n",
            " 65  65      4000 non-null   int64\n",
            " 66  66      4000 non-null   int64\n",
            " 67  67      4000 non-null   int64\n",
            " 68  68      4000 non-null   int64\n",
            " 69  69      4000 non-null   int64\n",
            " 70  70      4000 non-null   int64\n",
            " 71  71      4000 non-null   int64\n",
            " 72  72      4000 non-null   int64\n",
            " 73  73      4000 non-null   int64\n",
            " 74  74      4000 non-null   int64\n",
            " 75  75      4000 non-null   int64\n",
            " 76  76      4000 non-null   int64\n",
            " 77  77      4000 non-null   int64\n",
            " 78  78      4000 non-null   int64\n",
            " 79  79      4000 non-null   int64\n",
            " 80  80      4000 non-null   int64\n",
            " 81  81      4000 non-null   int64\n",
            " 82  82      4000 non-null   int64\n",
            " 83  83      4000 non-null   int64\n",
            " 84  84      4000 non-null   int64\n",
            "dtypes: int64(85)\n",
            "memory usage: 2.6 MB\n"
          ]
        }
      ],
      "source": [
        "ticeval.info()"
      ]
    },
    {
      "cell_type": "code",
      "execution_count": null,
      "metadata": {
        "id": "-PbNZ8c6KS9s",
        "outputId": "e7314250-2dd7-40d3-9962-81e32e656639"
      },
      "outputs": [
        {
          "name": "stdout",
          "output_type": "stream",
          "text": [
            "<class 'pandas.core.frame.DataFrame'>\n",
            "RangeIndex: 4000 entries, 0 to 3999\n",
            "Data columns (total 1 columns):\n",
            " #   Column  Non-Null Count  Dtype\n",
            "---  ------  --------------  -----\n",
            " 0   0       4000 non-null   int64\n",
            "dtypes: int64(1)\n",
            "memory usage: 31.4 KB\n"
          ]
        }
      ],
      "source": [
        "tictgts.info()"
      ]
    },
    {
      "cell_type": "code",
      "execution_count": null,
      "metadata": {
        "id": "h483uKTDKS9u"
      },
      "outputs": [],
      "source": [
        ""
      ]
    },
    {
      "cell_type": "code",
      "execution_count": null,
      "metadata": {
        "id": "4dFwU5NJKS9v",
        "outputId": "a1bc9c67-d9ce-4898-e7a5-1184623deb00"
      },
      "outputs": [
        {
          "data": {
            "text/plain": [
              "Int64Index([ 0,  1,  2,  3,  4,  5,  6,  7,  8,  9, 10, 11, 12, 13, 14, 15, 16,\n",
              "            17, 18, 19, 20, 21, 22, 23, 24, 25, 26, 27, 28, 29, 30, 31, 32, 33,\n",
              "            34, 35, 36, 37, 38, 39, 40, 41, 42, 43, 44, 45, 46, 47, 48, 49, 50,\n",
              "            51, 52, 53, 54, 55, 56, 57, 58, 59, 60, 61, 62, 63, 64, 65, 66, 67,\n",
              "            68, 69, 70, 71, 72, 73, 74, 75, 76, 77, 78, 79, 80, 81, 82, 83, 84,\n",
              "            85],\n",
              "           dtype='int64')"
            ]
          },
          "execution_count": 11,
          "metadata": {},
          "output_type": "execute_result"
        }
      ],
      "source": [
        "ticdata.columns"
      ]
    },
    {
      "cell_type": "code",
      "execution_count": null,
      "metadata": {
        "id": "ZJc9NrSXKS9w",
        "outputId": "d5448387-b711-48d8-c36c-7b4741f030f1"
      },
      "outputs": [
        {
          "name": "stdout",
          "output_type": "stream",
          "text": [
            "<class 'pandas.core.frame.DataFrame'>\n",
            "RangeIndex: 5822 entries, 0 to 5821\n",
            "Data columns (total 86 columns):\n",
            " #   Column  Non-Null Count  Dtype\n",
            "---  ------  --------------  -----\n",
            " 0   0       5822 non-null   int64\n",
            " 1   1       5822 non-null   int64\n",
            " 2   2       5822 non-null   int64\n",
            " 3   3       5822 non-null   int64\n",
            " 4   4       5822 non-null   int64\n",
            " 5   5       5822 non-null   int64\n",
            " 6   6       5822 non-null   int64\n",
            " 7   7       5822 non-null   int64\n",
            " 8   8       5822 non-null   int64\n",
            " 9   9       5822 non-null   int64\n",
            " 10  10      5822 non-null   int64\n",
            " 11  11      5822 non-null   int64\n",
            " 12  12      5822 non-null   int64\n",
            " 13  13      5822 non-null   int64\n",
            " 14  14      5822 non-null   int64\n",
            " 15  15      5822 non-null   int64\n",
            " 16  16      5822 non-null   int64\n",
            " 17  17      5822 non-null   int64\n",
            " 18  18      5822 non-null   int64\n",
            " 19  19      5822 non-null   int64\n",
            " 20  20      5822 non-null   int64\n",
            " 21  21      5822 non-null   int64\n",
            " 22  22      5822 non-null   int64\n",
            " 23  23      5822 non-null   int64\n",
            " 24  24      5822 non-null   int64\n",
            " 25  25      5822 non-null   int64\n",
            " 26  26      5822 non-null   int64\n",
            " 27  27      5822 non-null   int64\n",
            " 28  28      5822 non-null   int64\n",
            " 29  29      5822 non-null   int64\n",
            " 30  30      5822 non-null   int64\n",
            " 31  31      5822 non-null   int64\n",
            " 32  32      5822 non-null   int64\n",
            " 33  33      5822 non-null   int64\n",
            " 34  34      5822 non-null   int64\n",
            " 35  35      5822 non-null   int64\n",
            " 36  36      5822 non-null   int64\n",
            " 37  37      5822 non-null   int64\n",
            " 38  38      5822 non-null   int64\n",
            " 39  39      5822 non-null   int64\n",
            " 40  40      5822 non-null   int64\n",
            " 41  41      5822 non-null   int64\n",
            " 42  42      5822 non-null   int64\n",
            " 43  43      5822 non-null   int64\n",
            " 44  44      5822 non-null   int64\n",
            " 45  45      5822 non-null   int64\n",
            " 46  46      5822 non-null   int64\n",
            " 47  47      5822 non-null   int64\n",
            " 48  48      5822 non-null   int64\n",
            " 49  49      5822 non-null   int64\n",
            " 50  50      5822 non-null   int64\n",
            " 51  51      5822 non-null   int64\n",
            " 52  52      5822 non-null   int64\n",
            " 53  53      5822 non-null   int64\n",
            " 54  54      5822 non-null   int64\n",
            " 55  55      5822 non-null   int64\n",
            " 56  56      5822 non-null   int64\n",
            " 57  57      5822 non-null   int64\n",
            " 58  58      5822 non-null   int64\n",
            " 59  59      5822 non-null   int64\n",
            " 60  60      5822 non-null   int64\n",
            " 61  61      5822 non-null   int64\n",
            " 62  62      5822 non-null   int64\n",
            " 63  63      5822 non-null   int64\n",
            " 64  64      5822 non-null   int64\n",
            " 65  65      5822 non-null   int64\n",
            " 66  66      5822 non-null   int64\n",
            " 67  67      5822 non-null   int64\n",
            " 68  68      5822 non-null   int64\n",
            " 69  69      5822 non-null   int64\n",
            " 70  70      5822 non-null   int64\n",
            " 71  71      5822 non-null   int64\n",
            " 72  72      5822 non-null   int64\n",
            " 73  73      5822 non-null   int64\n",
            " 74  74      5822 non-null   int64\n",
            " 75  75      5822 non-null   int64\n",
            " 76  76      5822 non-null   int64\n",
            " 77  77      5822 non-null   int64\n",
            " 78  78      5822 non-null   int64\n",
            " 79  79      5822 non-null   int64\n",
            " 80  80      5822 non-null   int64\n",
            " 81  81      5822 non-null   int64\n",
            " 82  82      5822 non-null   int64\n",
            " 83  83      5822 non-null   int64\n",
            " 84  84      5822 non-null   int64\n",
            " 85  85      5822 non-null   int64\n",
            "dtypes: int64(86)\n",
            "memory usage: 3.8 MB\n"
          ]
        }
      ],
      "source": [
        "ticdata.info()"
      ]
    },
    {
      "cell_type": "code",
      "execution_count": null,
      "metadata": {
        "scrolled": false,
        "id": "zqH2CHNvKS9x",
        "outputId": "0015f52c-e513-42a9-95f4-e07195527f6a"
      },
      "outputs": [
        {
          "data": {
            "text/plain": [
              "0     int64\n",
              "1     int64\n",
              "2     int64\n",
              "3     int64\n",
              "4     int64\n",
              "      ...  \n",
              "81    int64\n",
              "82    int64\n",
              "83    int64\n",
              "84    int64\n",
              "85    int64\n",
              "Length: 86, dtype: object"
            ]
          },
          "execution_count": 13,
          "metadata": {},
          "output_type": "execute_result"
        }
      ],
      "source": [
        "ticdata.dtypes"
      ]
    },
    {
      "cell_type": "code",
      "execution_count": null,
      "metadata": {
        "id": "p2sXb0wsKS9y",
        "outputId": "4900e60e-d36b-4651-aac9-b91d75d1d6d0"
      },
      "outputs": [
        {
          "data": {
            "text/plain": [
              "(4000, 86)"
            ]
          },
          "execution_count": 14,
          "metadata": {},
          "output_type": "execute_result"
        }
      ],
      "source": [
        "tictest= pd.concat([ticeval,tictgts], axis=1,ignore_index=True)\n",
        "tictest.shape\n",
        "\n"
      ]
    },
    {
      "cell_type": "code",
      "execution_count": null,
      "metadata": {
        "id": "vVr-6cc4KS9z",
        "outputId": "765ad307-5ccb-4f77-cd5f-17638b2868e5"
      },
      "outputs": [
        {
          "data": {
            "text/plain": [
              "((5822, 86), (4000, 86))"
            ]
          },
          "execution_count": 15,
          "metadata": {},
          "output_type": "execute_result"
        }
      ],
      "source": [
        "ticdata.shape   , tictest.shape"
      ]
    },
    {
      "cell_type": "code",
      "execution_count": null,
      "metadata": {
        "id": "CCul_agzKS90"
      },
      "outputs": [],
      "source": [
        "tic2000= pd.concat([ ticdata, tictest   ],axis=0, ignore_index=True)\n",
        "\n"
      ]
    },
    {
      "cell_type": "code",
      "execution_count": null,
      "metadata": {
        "id": "83LVt7UlKS91",
        "outputId": "4e4870cc-efc1-4f92-f071-4233a34a10b6"
      },
      "outputs": [
        {
          "data": {
            "text/plain": [
              "(9822, 86)"
            ]
          },
          "execution_count": 17,
          "metadata": {},
          "output_type": "execute_result"
        }
      ],
      "source": [
        "tic2000.shape"
      ]
    },
    {
      "cell_type": "code",
      "execution_count": null,
      "metadata": {
        "id": "v-RhHylPKS92",
        "outputId": "57261f2b-e1a3-4636-b0e9-bd719a8df7af"
      },
      "outputs": [
        {
          "data": {
            "text/html": [
              "<div>\n",
              "<style scoped>\n",
              "    .dataframe tbody tr th:only-of-type {\n",
              "        vertical-align: middle;\n",
              "    }\n",
              "\n",
              "    .dataframe tbody tr th {\n",
              "        vertical-align: top;\n",
              "    }\n",
              "\n",
              "    .dataframe thead th {\n",
              "        text-align: right;\n",
              "    }\n",
              "</style>\n",
              "<table border=\"1\" class=\"dataframe\">\n",
              "  <thead>\n",
              "    <tr style=\"text-align: right;\">\n",
              "      <th></th>\n",
              "      <th>0</th>\n",
              "      <th>1</th>\n",
              "      <th>2</th>\n",
              "      <th>3</th>\n",
              "      <th>4</th>\n",
              "      <th>5</th>\n",
              "      <th>6</th>\n",
              "      <th>7</th>\n",
              "      <th>8</th>\n",
              "      <th>9</th>\n",
              "      <th>...</th>\n",
              "      <th>76</th>\n",
              "      <th>77</th>\n",
              "      <th>78</th>\n",
              "      <th>79</th>\n",
              "      <th>80</th>\n",
              "      <th>81</th>\n",
              "      <th>82</th>\n",
              "      <th>83</th>\n",
              "      <th>84</th>\n",
              "      <th>85</th>\n",
              "    </tr>\n",
              "  </thead>\n",
              "  <tbody>\n",
              "    <tr>\n",
              "      <th>0</th>\n",
              "      <td>33</td>\n",
              "      <td>1</td>\n",
              "      <td>3</td>\n",
              "      <td>2</td>\n",
              "      <td>8</td>\n",
              "      <td>0</td>\n",
              "      <td>5</td>\n",
              "      <td>1</td>\n",
              "      <td>3</td>\n",
              "      <td>7</td>\n",
              "      <td>...</td>\n",
              "      <td>0</td>\n",
              "      <td>0</td>\n",
              "      <td>0</td>\n",
              "      <td>1</td>\n",
              "      <td>0</td>\n",
              "      <td>0</td>\n",
              "      <td>0</td>\n",
              "      <td>0</td>\n",
              "      <td>0</td>\n",
              "      <td>0</td>\n",
              "    </tr>\n",
              "    <tr>\n",
              "      <th>1</th>\n",
              "      <td>37</td>\n",
              "      <td>1</td>\n",
              "      <td>2</td>\n",
              "      <td>2</td>\n",
              "      <td>8</td>\n",
              "      <td>1</td>\n",
              "      <td>4</td>\n",
              "      <td>1</td>\n",
              "      <td>4</td>\n",
              "      <td>6</td>\n",
              "      <td>...</td>\n",
              "      <td>0</td>\n",
              "      <td>0</td>\n",
              "      <td>0</td>\n",
              "      <td>1</td>\n",
              "      <td>0</td>\n",
              "      <td>0</td>\n",
              "      <td>0</td>\n",
              "      <td>0</td>\n",
              "      <td>0</td>\n",
              "      <td>0</td>\n",
              "    </tr>\n",
              "    <tr>\n",
              "      <th>2</th>\n",
              "      <td>37</td>\n",
              "      <td>1</td>\n",
              "      <td>2</td>\n",
              "      <td>2</td>\n",
              "      <td>8</td>\n",
              "      <td>0</td>\n",
              "      <td>4</td>\n",
              "      <td>2</td>\n",
              "      <td>4</td>\n",
              "      <td>3</td>\n",
              "      <td>...</td>\n",
              "      <td>0</td>\n",
              "      <td>0</td>\n",
              "      <td>0</td>\n",
              "      <td>1</td>\n",
              "      <td>0</td>\n",
              "      <td>0</td>\n",
              "      <td>0</td>\n",
              "      <td>0</td>\n",
              "      <td>0</td>\n",
              "      <td>0</td>\n",
              "    </tr>\n",
              "  </tbody>\n",
              "</table>\n",
              "<p>3 rows × 86 columns</p>\n",
              "</div>"
            ],
            "text/plain": [
              "   0   1   2   3   4   5   6   7   8   9   ...  76  77  78  79  80  81  82  \\\n",
              "0  33   1   3   2   8   0   5   1   3   7  ...   0   0   0   1   0   0   0   \n",
              "1  37   1   2   2   8   1   4   1   4   6  ...   0   0   0   1   0   0   0   \n",
              "2  37   1   2   2   8   0   4   2   4   3  ...   0   0   0   1   0   0   0   \n",
              "\n",
              "   83  84  85  \n",
              "0   0   0   0  \n",
              "1   0   0   0  \n",
              "2   0   0   0  \n",
              "\n",
              "[3 rows x 86 columns]"
            ]
          },
          "execution_count": 18,
          "metadata": {},
          "output_type": "execute_result"
        }
      ],
      "source": [
        "tic2000.head(3)"
      ]
    },
    {
      "cell_type": "code",
      "execution_count": null,
      "metadata": {
        "id": "GTkkUKeeKS92",
        "outputId": "98134024-11eb-4140-c90b-d53fe4311aa5"
      },
      "outputs": [
        {
          "data": {
            "text/plain": [
              "<bound method DataFrame.info of       0   1   2   3   4   5   6   7   8   9   ...  76  77  78  79  80  81  82  \\\n",
              "0     33   1   3   2   8   0   5   1   3   7  ...   0   0   0   1   0   0   0   \n",
              "1     37   1   2   2   8   1   4   1   4   6  ...   0   0   0   1   0   0   0   \n",
              "2     37   1   2   2   8   0   4   2   4   3  ...   0   0   0   1   0   0   0   \n",
              "3      9   1   3   3   3   2   3   2   4   5  ...   0   0   0   1   0   0   0   \n",
              "4     40   1   4   2  10   1   4   1   4   7  ...   0   0   0   1   0   0   0   \n",
              "...   ..  ..  ..  ..  ..  ..  ..  ..  ..  ..  ...  ..  ..  ..  ..  ..  ..  ..   \n",
              "9817  33   1   2   4   8   0   7   2   0   5  ...   0   0   0   1   0   0   0   \n",
              "9818  24   1   2   3   5   1   5   1   3   4  ...   0   0   0   1   0   0   0   \n",
              "9819  36   1   2   3   8   1   5   1   3   7  ...   0   0   0   1   0   0   0   \n",
              "9820  33   1   3   3   8   1   4   2   3   7  ...   0   0   0   0   0   0   0   \n",
              "9821   8   1   2   3   2   4   3   0   3   5  ...   0   0   0   1   0   0   0   \n",
              "\n",
              "      83  84  85  \n",
              "0      0   0   0  \n",
              "1      0   0   0  \n",
              "2      0   0   0  \n",
              "3      0   0   0  \n",
              "4      0   0   0  \n",
              "...   ..  ..  ..  \n",
              "9817   0   0   0  \n",
              "9818   0   0   1  \n",
              "9819   1   0   0  \n",
              "9820   0   0   0  \n",
              "9821   0   0   0  \n",
              "\n",
              "[9822 rows x 86 columns]>"
            ]
          },
          "execution_count": 19,
          "metadata": {},
          "output_type": "execute_result"
        }
      ],
      "source": [
        "tic2000.info"
      ]
    },
    {
      "cell_type": "code",
      "execution_count": null,
      "metadata": {
        "id": "R2heHZlQKS93",
        "outputId": "c578dba7-de42-49f3-b318-ab642f520554"
      },
      "outputs": [
        {
          "data": {
            "text/plain": [
              "85\n",
              "0     9236\n",
              "1      586\n",
              "dtype: int64"
            ]
          },
          "execution_count": 34,
          "metadata": {},
          "output_type": "execute_result"
        }
      ],
      "source": [
        "tic2000.iloc[:,[85]].value_counts()\n",
        "#1은 모두 사용, 0은 임의추출\n",
        "#0을 586 뽑으려면 가중치 15.7986"
      ]
    },
    {
      "cell_type": "code",
      "execution_count": null,
      "metadata": {
        "id": "TQ_0K6QnKS94",
        "outputId": "cca648ce-350d-475d-86de-eb03434d0414"
      },
      "outputs": [
        {
          "data": {
            "text/plain": [
              "(9822, 86)"
            ]
          },
          "execution_count": 23,
          "metadata": {},
          "output_type": "execute_result"
        }
      ],
      "source": [
        "tic2000.shape"
      ]
    },
    {
      "cell_type": "code",
      "execution_count": null,
      "metadata": {
        "id": "7Pw03WabKS95",
        "outputId": "df9372bc-94bb-4094-92de-854001426596"
      },
      "outputs": [
        {
          "data": {
            "text/plain": [
              "0     0\n",
              "1     0\n",
              "2     0\n",
              "3     0\n",
              "4     0\n",
              "     ..\n",
              "81    0\n",
              "82    0\n",
              "83    0\n",
              "84    0\n",
              "85    0\n",
              "Length: 86, dtype: int64"
            ]
          },
          "execution_count": 22,
          "metadata": {},
          "output_type": "execute_result"
        }
      ],
      "source": [
        "tic_null = tic2000.isnull().sum()\n",
        "tic_null   # null 없음 "
      ]
    },
    {
      "cell_type": "code",
      "execution_count": null,
      "metadata": {
        "collapsed": true,
        "id": "Xy8sHyY7KS96",
        "outputId": "f69d0b19-7cee-499b-901e-6ea0a43d3c2d"
      },
      "outputs": [
        {
          "ename": "SyntaxError",
          "evalue": "invalid syntax (<ipython-input-33-91f1b9388188>, line 5)",
          "output_type": "error",
          "traceback": [
            "\u001b[1;36m  File \u001b[1;32m\"<ipython-input-33-91f1b9388188>\"\u001b[1;36m, line \u001b[1;32m5\u001b[0m\n\u001b[1;33m    for ( i in 1:ncol(tic2000) ) {\u001b[0m\n\u001b[1;37m                ^\u001b[0m\n\u001b[1;31mSyntaxError\u001b[0m\u001b[1;31m:\u001b[0m invalid syntax\n"
          ]
        }
      ],
      "source": [
        "tic2000.columns = [\"컬럼명\", \"결측치수\"]\n",
        "\n",
        "\n",
        "\n",
        "for ( i in 1:ncol(tic2000) ) {\n",
        "\tnames(tic2000)[i]<-names[i,]\n",
        "\t}\n",
        "\n",
        "\n",
        "\n",
        "\n",
        "\n",
        "df.null_count.head()"
      ]
    },
    {
      "cell_type": "code",
      "execution_count": null,
      "metadata": {
        "id": "sEFg0Zg1KS98",
        "outputId": "ae54b339-f312-421a-a9c0-0bd75a95ef1f"
      },
      "outputs": [
        {
          "data": {
            "text/html": [
              "<div>\n",
              "<style scoped>\n",
              "    .dataframe tbody tr th:only-of-type {\n",
              "        vertical-align: middle;\n",
              "    }\n",
              "\n",
              "    .dataframe tbody tr th {\n",
              "        vertical-align: top;\n",
              "    }\n",
              "\n",
              "    .dataframe thead th {\n",
              "        text-align: right;\n",
              "    }\n",
              "</style>\n",
              "<table border=\"1\" class=\"dataframe\">\n",
              "  <thead>\n",
              "    <tr style=\"text-align: right;\">\n",
              "      <th></th>\n",
              "      <th>0</th>\n",
              "      <th>1</th>\n",
              "      <th>2</th>\n",
              "      <th>3</th>\n",
              "      <th>4</th>\n",
              "      <th>5</th>\n",
              "      <th>6</th>\n",
              "      <th>7</th>\n",
              "      <th>8</th>\n",
              "      <th>9</th>\n",
              "      <th>...</th>\n",
              "      <th>76</th>\n",
              "      <th>77</th>\n",
              "      <th>78</th>\n",
              "      <th>79</th>\n",
              "      <th>80</th>\n",
              "      <th>81</th>\n",
              "      <th>82</th>\n",
              "      <th>83</th>\n",
              "      <th>84</th>\n",
              "      <th>85</th>\n",
              "    </tr>\n",
              "  </thead>\n",
              "  <tbody>\n",
              "    <tr>\n",
              "      <th>1</th>\n",
              "      <td>37</td>\n",
              "      <td>1</td>\n",
              "      <td>2</td>\n",
              "      <td>2</td>\n",
              "      <td>8</td>\n",
              "      <td>1</td>\n",
              "      <td>4</td>\n",
              "      <td>1</td>\n",
              "      <td>4</td>\n",
              "      <td>6</td>\n",
              "      <td>...</td>\n",
              "      <td>0</td>\n",
              "      <td>0</td>\n",
              "      <td>0</td>\n",
              "      <td>1</td>\n",
              "      <td>0</td>\n",
              "      <td>0</td>\n",
              "      <td>0</td>\n",
              "      <td>0</td>\n",
              "      <td>0</td>\n",
              "      <td>0</td>\n",
              "    </tr>\n",
              "    <tr>\n",
              "      <th>2</th>\n",
              "      <td>37</td>\n",
              "      <td>1</td>\n",
              "      <td>2</td>\n",
              "      <td>2</td>\n",
              "      <td>8</td>\n",
              "      <td>0</td>\n",
              "      <td>4</td>\n",
              "      <td>2</td>\n",
              "      <td>4</td>\n",
              "      <td>3</td>\n",
              "      <td>...</td>\n",
              "      <td>0</td>\n",
              "      <td>0</td>\n",
              "      <td>0</td>\n",
              "      <td>1</td>\n",
              "      <td>0</td>\n",
              "      <td>0</td>\n",
              "      <td>0</td>\n",
              "      <td>0</td>\n",
              "      <td>0</td>\n",
              "      <td>0</td>\n",
              "    </tr>\n",
              "    <tr>\n",
              "      <th>3</th>\n",
              "      <td>9</td>\n",
              "      <td>1</td>\n",
              "      <td>3</td>\n",
              "      <td>3</td>\n",
              "      <td>3</td>\n",
              "      <td>2</td>\n",
              "      <td>3</td>\n",
              "      <td>2</td>\n",
              "      <td>4</td>\n",
              "      <td>5</td>\n",
              "      <td>...</td>\n",
              "      <td>0</td>\n",
              "      <td>0</td>\n",
              "      <td>0</td>\n",
              "      <td>1</td>\n",
              "      <td>0</td>\n",
              "      <td>0</td>\n",
              "      <td>0</td>\n",
              "      <td>0</td>\n",
              "      <td>0</td>\n",
              "      <td>0</td>\n",
              "    </tr>\n",
              "  </tbody>\n",
              "</table>\n",
              "<p>3 rows × 86 columns</p>\n",
              "</div>"
            ],
            "text/plain": [
              "   0   1   2   3   4   5   6   7   8   9   ...  76  77  78  79  80  81  82  \\\n",
              "1  37   1   2   2   8   1   4   1   4   6  ...   0   0   0   1   0   0   0   \n",
              "2  37   1   2   2   8   0   4   2   4   3  ...   0   0   0   1   0   0   0   \n",
              "3   9   1   3   3   3   2   3   2   4   5  ...   0   0   0   1   0   0   0   \n",
              "\n",
              "   83  84  85  \n",
              "1   0   0   0  \n",
              "2   0   0   0  \n",
              "3   0   0   0  \n",
              "\n",
              "[3 rows x 86 columns]"
            ]
          },
          "execution_count": 30,
          "metadata": {},
          "output_type": "execute_result"
        }
      ],
      "source": [
        "tic2000.loc[1:3]"
      ]
    },
    {
      "cell_type": "code",
      "execution_count": null,
      "metadata": {
        "scrolled": true,
        "id": "SE4g3OBOKS98",
        "outputId": "0ab4ec5e-c4e3-438d-ee94-1d8a5efe60b9"
      },
      "outputs": [
        {
          "data": {
            "text/html": [
              "<div>\n",
              "<style scoped>\n",
              "    .dataframe tbody tr th:only-of-type {\n",
              "        vertical-align: middle;\n",
              "    }\n",
              "\n",
              "    .dataframe tbody tr th {\n",
              "        vertical-align: top;\n",
              "    }\n",
              "\n",
              "    .dataframe thead th {\n",
              "        text-align: right;\n",
              "    }\n",
              "</style>\n",
              "<table border=\"1\" class=\"dataframe\">\n",
              "  <thead>\n",
              "    <tr style=\"text-align: right;\">\n",
              "      <th></th>\n",
              "      <th>0</th>\n",
              "      <th>1</th>\n",
              "      <th>2</th>\n",
              "      <th>3</th>\n",
              "      <th>4</th>\n",
              "      <th>5</th>\n",
              "      <th>6</th>\n",
              "      <th>7</th>\n",
              "      <th>8</th>\n",
              "      <th>9</th>\n",
              "      <th>...</th>\n",
              "      <th>76</th>\n",
              "      <th>77</th>\n",
              "      <th>78</th>\n",
              "      <th>79</th>\n",
              "      <th>80</th>\n",
              "      <th>81</th>\n",
              "      <th>82</th>\n",
              "      <th>83</th>\n",
              "      <th>84</th>\n",
              "      <th>85</th>\n",
              "    </tr>\n",
              "  </thead>\n",
              "  <tbody>\n",
              "    <tr>\n",
              "      <th>1</th>\n",
              "      <td>37</td>\n",
              "      <td>1</td>\n",
              "      <td>2</td>\n",
              "      <td>2</td>\n",
              "      <td>8</td>\n",
              "      <td>1</td>\n",
              "      <td>4</td>\n",
              "      <td>1</td>\n",
              "      <td>4</td>\n",
              "      <td>6</td>\n",
              "      <td>...</td>\n",
              "      <td>0</td>\n",
              "      <td>0</td>\n",
              "      <td>0</td>\n",
              "      <td>1</td>\n",
              "      <td>0</td>\n",
              "      <td>0</td>\n",
              "      <td>0</td>\n",
              "      <td>0</td>\n",
              "      <td>0</td>\n",
              "      <td>0</td>\n",
              "    </tr>\n",
              "    <tr>\n",
              "      <th>2</th>\n",
              "      <td>37</td>\n",
              "      <td>1</td>\n",
              "      <td>2</td>\n",
              "      <td>2</td>\n",
              "      <td>8</td>\n",
              "      <td>0</td>\n",
              "      <td>4</td>\n",
              "      <td>2</td>\n",
              "      <td>4</td>\n",
              "      <td>3</td>\n",
              "      <td>...</td>\n",
              "      <td>0</td>\n",
              "      <td>0</td>\n",
              "      <td>0</td>\n",
              "      <td>1</td>\n",
              "      <td>0</td>\n",
              "      <td>0</td>\n",
              "      <td>0</td>\n",
              "      <td>0</td>\n",
              "      <td>0</td>\n",
              "      <td>0</td>\n",
              "    </tr>\n",
              "  </tbody>\n",
              "</table>\n",
              "<p>2 rows × 86 columns</p>\n",
              "</div>"
            ],
            "text/plain": [
              "   0   1   2   3   4   5   6   7   8   9   ...  76  77  78  79  80  81  82  \\\n",
              "1  37   1   2   2   8   1   4   1   4   6  ...   0   0   0   1   0   0   0   \n",
              "2  37   1   2   2   8   0   4   2   4   3  ...   0   0   0   1   0   0   0   \n",
              "\n",
              "   83  84  85  \n",
              "1   0   0   0  \n",
              "2   0   0   0  \n",
              "\n",
              "[2 rows x 86 columns]"
            ]
          },
          "execution_count": 32,
          "metadata": {},
          "output_type": "execute_result"
        }
      ],
      "source": [
        "tic2000.iloc[1:3]"
      ]
    },
    {
      "cell_type": "code",
      "execution_count": null,
      "metadata": {
        "id": "JftTl0DXKS99",
        "outputId": "94bc7060-c9a1-4622-dc3d-2bc0f64cb76f"
      },
      "outputs": [
        {
          "data": {
            "text/html": [
              "<div>\n",
              "<style scoped>\n",
              "    .dataframe tbody tr th:only-of-type {\n",
              "        vertical-align: middle;\n",
              "    }\n",
              "\n",
              "    .dataframe tbody tr th {\n",
              "        vertical-align: top;\n",
              "    }\n",
              "\n",
              "    .dataframe thead th {\n",
              "        text-align: right;\n",
              "    }\n",
              "</style>\n",
              "<table border=\"1\" class=\"dataframe\">\n",
              "  <thead>\n",
              "    <tr style=\"text-align: right;\">\n",
              "      <th></th>\n",
              "      <th>0</th>\n",
              "      <th>1</th>\n",
              "      <th>2</th>\n",
              "      <th>3</th>\n",
              "      <th>4</th>\n",
              "      <th>5</th>\n",
              "      <th>6</th>\n",
              "      <th>7</th>\n",
              "      <th>8</th>\n",
              "      <th>9</th>\n",
              "      <th>...</th>\n",
              "      <th>76</th>\n",
              "      <th>77</th>\n",
              "      <th>78</th>\n",
              "      <th>79</th>\n",
              "      <th>80</th>\n",
              "      <th>81</th>\n",
              "      <th>82</th>\n",
              "      <th>83</th>\n",
              "      <th>84</th>\n",
              "      <th>85</th>\n",
              "    </tr>\n",
              "  </thead>\n",
              "  <tbody>\n",
              "    <tr>\n",
              "      <th>0</th>\n",
              "      <td>33</td>\n",
              "      <td>1</td>\n",
              "      <td>3</td>\n",
              "      <td>2</td>\n",
              "      <td>8</td>\n",
              "      <td>0</td>\n",
              "      <td>5</td>\n",
              "      <td>1</td>\n",
              "      <td>3</td>\n",
              "      <td>7</td>\n",
              "      <td>...</td>\n",
              "      <td>0</td>\n",
              "      <td>0</td>\n",
              "      <td>0</td>\n",
              "      <td>1</td>\n",
              "      <td>0</td>\n",
              "      <td>0</td>\n",
              "      <td>0</td>\n",
              "      <td>0</td>\n",
              "      <td>0</td>\n",
              "      <td>0</td>\n",
              "    </tr>\n",
              "    <tr>\n",
              "      <th>1</th>\n",
              "      <td>37</td>\n",
              "      <td>1</td>\n",
              "      <td>2</td>\n",
              "      <td>2</td>\n",
              "      <td>8</td>\n",
              "      <td>1</td>\n",
              "      <td>4</td>\n",
              "      <td>1</td>\n",
              "      <td>4</td>\n",
              "      <td>6</td>\n",
              "      <td>...</td>\n",
              "      <td>0</td>\n",
              "      <td>0</td>\n",
              "      <td>0</td>\n",
              "      <td>1</td>\n",
              "      <td>0</td>\n",
              "      <td>0</td>\n",
              "      <td>0</td>\n",
              "      <td>0</td>\n",
              "      <td>0</td>\n",
              "      <td>0</td>\n",
              "    </tr>\n",
              "    <tr>\n",
              "      <th>2</th>\n",
              "      <td>37</td>\n",
              "      <td>1</td>\n",
              "      <td>2</td>\n",
              "      <td>2</td>\n",
              "      <td>8</td>\n",
              "      <td>0</td>\n",
              "      <td>4</td>\n",
              "      <td>2</td>\n",
              "      <td>4</td>\n",
              "      <td>3</td>\n",
              "      <td>...</td>\n",
              "      <td>0</td>\n",
              "      <td>0</td>\n",
              "      <td>0</td>\n",
              "      <td>1</td>\n",
              "      <td>0</td>\n",
              "      <td>0</td>\n",
              "      <td>0</td>\n",
              "      <td>0</td>\n",
              "      <td>0</td>\n",
              "      <td>0</td>\n",
              "    </tr>\n",
              "    <tr>\n",
              "      <th>3</th>\n",
              "      <td>9</td>\n",
              "      <td>1</td>\n",
              "      <td>3</td>\n",
              "      <td>3</td>\n",
              "      <td>3</td>\n",
              "      <td>2</td>\n",
              "      <td>3</td>\n",
              "      <td>2</td>\n",
              "      <td>4</td>\n",
              "      <td>5</td>\n",
              "      <td>...</td>\n",
              "      <td>0</td>\n",
              "      <td>0</td>\n",
              "      <td>0</td>\n",
              "      <td>1</td>\n",
              "      <td>0</td>\n",
              "      <td>0</td>\n",
              "      <td>0</td>\n",
              "      <td>0</td>\n",
              "      <td>0</td>\n",
              "      <td>0</td>\n",
              "    </tr>\n",
              "    <tr>\n",
              "      <th>4</th>\n",
              "      <td>40</td>\n",
              "      <td>1</td>\n",
              "      <td>4</td>\n",
              "      <td>2</td>\n",
              "      <td>10</td>\n",
              "      <td>1</td>\n",
              "      <td>4</td>\n",
              "      <td>1</td>\n",
              "      <td>4</td>\n",
              "      <td>7</td>\n",
              "      <td>...</td>\n",
              "      <td>0</td>\n",
              "      <td>0</td>\n",
              "      <td>0</td>\n",
              "      <td>1</td>\n",
              "      <td>0</td>\n",
              "      <td>0</td>\n",
              "      <td>0</td>\n",
              "      <td>0</td>\n",
              "      <td>0</td>\n",
              "      <td>0</td>\n",
              "    </tr>\n",
              "  </tbody>\n",
              "</table>\n",
              "<p>5 rows × 86 columns</p>\n",
              "</div>"
            ],
            "text/plain": [
              "   0   1   2   3   4   5   6   7   8   9   ...  76  77  78  79  80  81  82  \\\n",
              "0  33   1   3   2   8   0   5   1   3   7  ...   0   0   0   1   0   0   0   \n",
              "1  37   1   2   2   8   1   4   1   4   6  ...   0   0   0   1   0   0   0   \n",
              "2  37   1   2   2   8   0   4   2   4   3  ...   0   0   0   1   0   0   0   \n",
              "3   9   1   3   3   3   2   3   2   4   5  ...   0   0   0   1   0   0   0   \n",
              "4  40   1   4   2  10   1   4   1   4   7  ...   0   0   0   1   0   0   0   \n",
              "\n",
              "   83  84  85  \n",
              "0   0   0   0  \n",
              "1   0   0   0  \n",
              "2   0   0   0  \n",
              "3   0   0   0  \n",
              "4   0   0   0  \n",
              "\n",
              "[5 rows x 86 columns]"
            ]
          },
          "execution_count": 31,
          "metadata": {},
          "output_type": "execute_result"
        }
      ],
      "source": [
        "tic2000.head(5)"
      ]
    },
    {
      "cell_type": "code",
      "execution_count": null,
      "metadata": {
        "id": "zfD5osZOKS9-"
      },
      "outputs": [],
      "source": [
        "tic2000."
      ]
    }
  ],
  "metadata": {
    "kernelspec": {
      "display_name": "Python 3",
      "language": "python",
      "name": "python3"
    },
    "language_info": {
      "codemirror_mode": {
        "name": "ipython",
        "version": 3
      },
      "file_extension": ".py",
      "mimetype": "text/x-python",
      "name": "python",
      "nbconvert_exporter": "python",
      "pygments_lexer": "ipython3",
      "version": "3.8.5"
    },
    "toc": {
      "base_numbering": 1,
      "nav_menu": {},
      "number_sections": true,
      "sideBar": true,
      "skip_h1_title": false,
      "title_cell": "Table of Contents",
      "title_sidebar": "Contents",
      "toc_cell": false,
      "toc_position": {},
      "toc_section_display": true,
      "toc_window_display": false
    },
    "colab": {
      "name": "0418.ipynb",
      "provenance": []
    }
  },
  "nbformat": 4,
  "nbformat_minor": 0
}